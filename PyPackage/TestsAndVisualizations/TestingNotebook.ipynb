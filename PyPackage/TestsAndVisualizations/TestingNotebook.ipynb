{
 "cells": [
  {
   "cell_type": "code",
   "execution_count": 45,
   "outputs": [],
   "source": [
    "import pathlib\n",
    "import pandas as pd\n",
    "from PyPackage.IOLib import *\n",
    "import numpy as np"
   ],
   "metadata": {
    "collapsed": false,
    "pycharm": {
     "name": "#%%\n"
    }
   }
  },
  {
   "cell_type": "code",
   "execution_count": 7,
   "outputs": [],
   "source": [
    "csv_frame = pd.read_csv(pathlib.Path(\"../../DATABASE/MAIS202data.csv\"))"
   ],
   "metadata": {
    "collapsed": false,
    "pycharm": {
     "name": "#%%\n"
    }
   }
  },
  {
   "cell_type": "code",
   "execution_count": 9,
   "outputs": [],
   "source": [
    "pkl_frame = pd.read_pickle(pathlib.Path(\"../../DATABASE/main.pkl\"))"
   ],
   "metadata": {
    "collapsed": false,
    "pycharm": {
     "name": "#%%\n"
    }
   }
  },
  {
   "cell_type": "code",
   "execution_count": 13,
   "outputs": [
    {
     "data": {
      "text/plain": "                          id  danceability  energy  key  loudness  mode  \\\n0     2WN7xpcY4zmcqF57HFEGZY         0.799   0.569    0    -7.821     1   \n1     0k1WUmIRnG3xU6fvvDVfRG         0.803   0.597   11    -6.035     0   \n2     3QFInJAm9eyaho5vBzxInN         0.711   0.611    1    -5.453     1   \n3     7FdmHr87G79PDRGy9SPBkZ         0.949   0.683    9    -4.242     1   \n4     40uMIn2zJLAQhNXghRjBed         0.797   0.631    3    -3.818     0   \n...                      ...           ...     ...  ...       ...   ...   \n3828  0Xg38XEeI0xRYODGTuFH55         0.569   0.761    9    -4.780     0   \n3829  7FpFxqvwMMR4j1Yi1vndpK         0.643   0.913    8    -4.538     1   \n3830  2Kp5p8jiWH42gJVv4cHNBZ         0.665   0.456    5    -9.745     1   \n3831  0ZQFl5jbiOlMVd9LJ1hOjB         0.845   0.521   11    -6.444     0   \n3832  3ETWwN2Fa8ihTN2LKpryV2         0.719   0.386    9    -9.401     0   \n\n      speechiness  acousticness  instrumentalness  liveness  valence    tempo  \\\n0          0.3180      0.154000          0.000000    0.1510    0.417  125.074   \n1          0.1410      0.000619          0.000005    0.3230    0.331  136.008   \n2          0.3300      0.005880          0.000000    0.2300    0.144  134.093   \n3          0.0946      0.019900          0.000000    0.1710    0.887  130.012   \n4          0.0786      0.090400          0.000004    0.0998    0.288  129.915   \n...           ...           ...               ...       ...      ...      ...   \n3828       0.0343      0.031500          0.000694    0.0958    0.694   90.024   \n3829       0.0351      0.006510          0.001700    0.0427    0.449  112.988   \n3830       0.0331      0.804000          0.020700    0.1400    0.823  112.056   \n3831       0.0384      0.076400          0.000000    0.1220    0.619   96.537   \n3832       0.0613      0.716000          0.001130    0.0905    0.278  144.951   \n\n      duration_ms  time_signature  \n0          206600               4  \n1          257605               4  \n2          252262               4  \n3          184635               4  \n4          184213               4  \n...           ...             ...  \n3828       209601               4  \n3829       224427               4  \n3830       194203               4  \n3831       169741               3  \n3832       226132               3  \n\n[3833 rows x 14 columns]",
      "text/html": "<div>\n<style scoped>\n    .dataframe tbody tr th:only-of-type {\n        vertical-align: middle;\n    }\n\n    .dataframe tbody tr th {\n        vertical-align: top;\n    }\n\n    .dataframe thead th {\n        text-align: right;\n    }\n</style>\n<table border=\"1\" class=\"dataframe\">\n  <thead>\n    <tr style=\"text-align: right;\">\n      <th></th>\n      <th>id</th>\n      <th>danceability</th>\n      <th>energy</th>\n      <th>key</th>\n      <th>loudness</th>\n      <th>mode</th>\n      <th>speechiness</th>\n      <th>acousticness</th>\n      <th>instrumentalness</th>\n      <th>liveness</th>\n      <th>valence</th>\n      <th>tempo</th>\n      <th>duration_ms</th>\n      <th>time_signature</th>\n    </tr>\n  </thead>\n  <tbody>\n    <tr>\n      <th>0</th>\n      <td>2WN7xpcY4zmcqF57HFEGZY</td>\n      <td>0.799</td>\n      <td>0.569</td>\n      <td>0</td>\n      <td>-7.821</td>\n      <td>1</td>\n      <td>0.3180</td>\n      <td>0.154000</td>\n      <td>0.000000</td>\n      <td>0.1510</td>\n      <td>0.417</td>\n      <td>125.074</td>\n      <td>206600</td>\n      <td>4</td>\n    </tr>\n    <tr>\n      <th>1</th>\n      <td>0k1WUmIRnG3xU6fvvDVfRG</td>\n      <td>0.803</td>\n      <td>0.597</td>\n      <td>11</td>\n      <td>-6.035</td>\n      <td>0</td>\n      <td>0.1410</td>\n      <td>0.000619</td>\n      <td>0.000005</td>\n      <td>0.3230</td>\n      <td>0.331</td>\n      <td>136.008</td>\n      <td>257605</td>\n      <td>4</td>\n    </tr>\n    <tr>\n      <th>2</th>\n      <td>3QFInJAm9eyaho5vBzxInN</td>\n      <td>0.711</td>\n      <td>0.611</td>\n      <td>1</td>\n      <td>-5.453</td>\n      <td>1</td>\n      <td>0.3300</td>\n      <td>0.005880</td>\n      <td>0.000000</td>\n      <td>0.2300</td>\n      <td>0.144</td>\n      <td>134.093</td>\n      <td>252262</td>\n      <td>4</td>\n    </tr>\n    <tr>\n      <th>3</th>\n      <td>7FdmHr87G79PDRGy9SPBkZ</td>\n      <td>0.949</td>\n      <td>0.683</td>\n      <td>9</td>\n      <td>-4.242</td>\n      <td>1</td>\n      <td>0.0946</td>\n      <td>0.019900</td>\n      <td>0.000000</td>\n      <td>0.1710</td>\n      <td>0.887</td>\n      <td>130.012</td>\n      <td>184635</td>\n      <td>4</td>\n    </tr>\n    <tr>\n      <th>4</th>\n      <td>40uMIn2zJLAQhNXghRjBed</td>\n      <td>0.797</td>\n      <td>0.631</td>\n      <td>3</td>\n      <td>-3.818</td>\n      <td>0</td>\n      <td>0.0786</td>\n      <td>0.090400</td>\n      <td>0.000004</td>\n      <td>0.0998</td>\n      <td>0.288</td>\n      <td>129.915</td>\n      <td>184213</td>\n      <td>4</td>\n    </tr>\n    <tr>\n      <th>...</th>\n      <td>...</td>\n      <td>...</td>\n      <td>...</td>\n      <td>...</td>\n      <td>...</td>\n      <td>...</td>\n      <td>...</td>\n      <td>...</td>\n      <td>...</td>\n      <td>...</td>\n      <td>...</td>\n      <td>...</td>\n      <td>...</td>\n      <td>...</td>\n    </tr>\n    <tr>\n      <th>3828</th>\n      <td>0Xg38XEeI0xRYODGTuFH55</td>\n      <td>0.569</td>\n      <td>0.761</td>\n      <td>9</td>\n      <td>-4.780</td>\n      <td>0</td>\n      <td>0.0343</td>\n      <td>0.031500</td>\n      <td>0.000694</td>\n      <td>0.0958</td>\n      <td>0.694</td>\n      <td>90.024</td>\n      <td>209601</td>\n      <td>4</td>\n    </tr>\n    <tr>\n      <th>3829</th>\n      <td>7FpFxqvwMMR4j1Yi1vndpK</td>\n      <td>0.643</td>\n      <td>0.913</td>\n      <td>8</td>\n      <td>-4.538</td>\n      <td>1</td>\n      <td>0.0351</td>\n      <td>0.006510</td>\n      <td>0.001700</td>\n      <td>0.0427</td>\n      <td>0.449</td>\n      <td>112.988</td>\n      <td>224427</td>\n      <td>4</td>\n    </tr>\n    <tr>\n      <th>3830</th>\n      <td>2Kp5p8jiWH42gJVv4cHNBZ</td>\n      <td>0.665</td>\n      <td>0.456</td>\n      <td>5</td>\n      <td>-9.745</td>\n      <td>1</td>\n      <td>0.0331</td>\n      <td>0.804000</td>\n      <td>0.020700</td>\n      <td>0.1400</td>\n      <td>0.823</td>\n      <td>112.056</td>\n      <td>194203</td>\n      <td>4</td>\n    </tr>\n    <tr>\n      <th>3831</th>\n      <td>0ZQFl5jbiOlMVd9LJ1hOjB</td>\n      <td>0.845</td>\n      <td>0.521</td>\n      <td>11</td>\n      <td>-6.444</td>\n      <td>0</td>\n      <td>0.0384</td>\n      <td>0.076400</td>\n      <td>0.000000</td>\n      <td>0.1220</td>\n      <td>0.619</td>\n      <td>96.537</td>\n      <td>169741</td>\n      <td>3</td>\n    </tr>\n    <tr>\n      <th>3832</th>\n      <td>3ETWwN2Fa8ihTN2LKpryV2</td>\n      <td>0.719</td>\n      <td>0.386</td>\n      <td>9</td>\n      <td>-9.401</td>\n      <td>0</td>\n      <td>0.0613</td>\n      <td>0.716000</td>\n      <td>0.001130</td>\n      <td>0.0905</td>\n      <td>0.278</td>\n      <td>144.951</td>\n      <td>226132</td>\n      <td>3</td>\n    </tr>\n  </tbody>\n</table>\n<p>3833 rows × 14 columns</p>\n</div>"
     },
     "execution_count": 13,
     "metadata": {},
     "output_type": "execute_result"
    }
   ],
   "source": [
    "csv_frame"
   ],
   "metadata": {
    "collapsed": false,
    "pycharm": {
     "name": "#%%\n"
    }
   }
  },
  {
   "cell_type": "code",
   "execution_count": 16,
   "outputs": [
    {
     "data": {
      "text/plain": "                          id  danceability  energy  key  loudness  mode  \\\n0     2WN7xpcY4zmcqF57HFEGZY         0.799   0.569    0    -7.821     1   \n1     0k1WUmIRnG3xU6fvvDVfRG         0.803   0.597   11    -6.035     0   \n2     3QFInJAm9eyaho5vBzxInN         0.711   0.611    1    -5.453     1   \n3     7FdmHr87G79PDRGy9SPBkZ         0.949   0.683    9    -4.242     1   \n4     40uMIn2zJLAQhNXghRjBed         0.797   0.631    3    -3.818     0   \n...                      ...           ...     ...  ...       ...   ...   \n3828  0Xg38XEeI0xRYODGTuFH55         0.569   0.761    9    -4.780     0   \n3829  7FpFxqvwMMR4j1Yi1vndpK         0.643   0.913    8    -4.538     1   \n3830  2Kp5p8jiWH42gJVv4cHNBZ         0.665   0.456    5    -9.745     1   \n3831  0ZQFl5jbiOlMVd9LJ1hOjB         0.845   0.521   11    -6.444     0   \n3832  3ETWwN2Fa8ihTN2LKpryV2         0.719   0.386    9    -9.401     0   \n\n      speechiness  acousticness  instrumentalness  liveness  valence    tempo  \\\n0          0.3180      0.154000          0.000000    0.1510    0.417  125.074   \n1          0.1410      0.000619          0.000005    0.3230    0.331  136.008   \n2          0.3300      0.005880          0.000000    0.2300    0.144  134.093   \n3          0.0946      0.019900          0.000000    0.1710    0.887  130.012   \n4          0.0786      0.090400          0.000004    0.0998    0.288  129.915   \n...           ...           ...               ...       ...      ...      ...   \n3828       0.0343      0.031500          0.000694    0.0958    0.694   90.024   \n3829       0.0351      0.006510          0.001700    0.0427    0.449  112.988   \n3830       0.0331      0.804000          0.020700    0.1400    0.823  112.056   \n3831       0.0384      0.076400          0.000000    0.1220    0.619   96.537   \n3832       0.0613      0.716000          0.001130    0.0905    0.278  144.951   \n\n      duration_ms  time_signature  \n0          206600               4  \n1          257605               4  \n2          252262               4  \n3          184635               4  \n4          184213               4  \n...           ...             ...  \n3828       209601               4  \n3829       224427               4  \n3830       194203               4  \n3831       169741               3  \n3832       226132               3  \n\n[3833 rows x 14 columns]",
      "text/html": "<div>\n<style scoped>\n    .dataframe tbody tr th:only-of-type {\n        vertical-align: middle;\n    }\n\n    .dataframe tbody tr th {\n        vertical-align: top;\n    }\n\n    .dataframe thead th {\n        text-align: right;\n    }\n</style>\n<table border=\"1\" class=\"dataframe\">\n  <thead>\n    <tr style=\"text-align: right;\">\n      <th></th>\n      <th>id</th>\n      <th>danceability</th>\n      <th>energy</th>\n      <th>key</th>\n      <th>loudness</th>\n      <th>mode</th>\n      <th>speechiness</th>\n      <th>acousticness</th>\n      <th>instrumentalness</th>\n      <th>liveness</th>\n      <th>valence</th>\n      <th>tempo</th>\n      <th>duration_ms</th>\n      <th>time_signature</th>\n    </tr>\n  </thead>\n  <tbody>\n    <tr>\n      <th>0</th>\n      <td>2WN7xpcY4zmcqF57HFEGZY</td>\n      <td>0.799</td>\n      <td>0.569</td>\n      <td>0</td>\n      <td>-7.821</td>\n      <td>1</td>\n      <td>0.3180</td>\n      <td>0.154000</td>\n      <td>0.000000</td>\n      <td>0.1510</td>\n      <td>0.417</td>\n      <td>125.074</td>\n      <td>206600</td>\n      <td>4</td>\n    </tr>\n    <tr>\n      <th>1</th>\n      <td>0k1WUmIRnG3xU6fvvDVfRG</td>\n      <td>0.803</td>\n      <td>0.597</td>\n      <td>11</td>\n      <td>-6.035</td>\n      <td>0</td>\n      <td>0.1410</td>\n      <td>0.000619</td>\n      <td>0.000005</td>\n      <td>0.3230</td>\n      <td>0.331</td>\n      <td>136.008</td>\n      <td>257605</td>\n      <td>4</td>\n    </tr>\n    <tr>\n      <th>2</th>\n      <td>3QFInJAm9eyaho5vBzxInN</td>\n      <td>0.711</td>\n      <td>0.611</td>\n      <td>1</td>\n      <td>-5.453</td>\n      <td>1</td>\n      <td>0.3300</td>\n      <td>0.005880</td>\n      <td>0.000000</td>\n      <td>0.2300</td>\n      <td>0.144</td>\n      <td>134.093</td>\n      <td>252262</td>\n      <td>4</td>\n    </tr>\n    <tr>\n      <th>3</th>\n      <td>7FdmHr87G79PDRGy9SPBkZ</td>\n      <td>0.949</td>\n      <td>0.683</td>\n      <td>9</td>\n      <td>-4.242</td>\n      <td>1</td>\n      <td>0.0946</td>\n      <td>0.019900</td>\n      <td>0.000000</td>\n      <td>0.1710</td>\n      <td>0.887</td>\n      <td>130.012</td>\n      <td>184635</td>\n      <td>4</td>\n    </tr>\n    <tr>\n      <th>4</th>\n      <td>40uMIn2zJLAQhNXghRjBed</td>\n      <td>0.797</td>\n      <td>0.631</td>\n      <td>3</td>\n      <td>-3.818</td>\n      <td>0</td>\n      <td>0.0786</td>\n      <td>0.090400</td>\n      <td>0.000004</td>\n      <td>0.0998</td>\n      <td>0.288</td>\n      <td>129.915</td>\n      <td>184213</td>\n      <td>4</td>\n    </tr>\n    <tr>\n      <th>...</th>\n      <td>...</td>\n      <td>...</td>\n      <td>...</td>\n      <td>...</td>\n      <td>...</td>\n      <td>...</td>\n      <td>...</td>\n      <td>...</td>\n      <td>...</td>\n      <td>...</td>\n      <td>...</td>\n      <td>...</td>\n      <td>...</td>\n      <td>...</td>\n    </tr>\n    <tr>\n      <th>3828</th>\n      <td>0Xg38XEeI0xRYODGTuFH55</td>\n      <td>0.569</td>\n      <td>0.761</td>\n      <td>9</td>\n      <td>-4.780</td>\n      <td>0</td>\n      <td>0.0343</td>\n      <td>0.031500</td>\n      <td>0.000694</td>\n      <td>0.0958</td>\n      <td>0.694</td>\n      <td>90.024</td>\n      <td>209601</td>\n      <td>4</td>\n    </tr>\n    <tr>\n      <th>3829</th>\n      <td>7FpFxqvwMMR4j1Yi1vndpK</td>\n      <td>0.643</td>\n      <td>0.913</td>\n      <td>8</td>\n      <td>-4.538</td>\n      <td>1</td>\n      <td>0.0351</td>\n      <td>0.006510</td>\n      <td>0.001700</td>\n      <td>0.0427</td>\n      <td>0.449</td>\n      <td>112.988</td>\n      <td>224427</td>\n      <td>4</td>\n    </tr>\n    <tr>\n      <th>3830</th>\n      <td>2Kp5p8jiWH42gJVv4cHNBZ</td>\n      <td>0.665</td>\n      <td>0.456</td>\n      <td>5</td>\n      <td>-9.745</td>\n      <td>1</td>\n      <td>0.0331</td>\n      <td>0.804000</td>\n      <td>0.020700</td>\n      <td>0.1400</td>\n      <td>0.823</td>\n      <td>112.056</td>\n      <td>194203</td>\n      <td>4</td>\n    </tr>\n    <tr>\n      <th>3831</th>\n      <td>0ZQFl5jbiOlMVd9LJ1hOjB</td>\n      <td>0.845</td>\n      <td>0.521</td>\n      <td>11</td>\n      <td>-6.444</td>\n      <td>0</td>\n      <td>0.0384</td>\n      <td>0.076400</td>\n      <td>0.000000</td>\n      <td>0.1220</td>\n      <td>0.619</td>\n      <td>96.537</td>\n      <td>169741</td>\n      <td>3</td>\n    </tr>\n    <tr>\n      <th>3832</th>\n      <td>3ETWwN2Fa8ihTN2LKpryV2</td>\n      <td>0.719</td>\n      <td>0.386</td>\n      <td>9</td>\n      <td>-9.401</td>\n      <td>0</td>\n      <td>0.0613</td>\n      <td>0.716000</td>\n      <td>0.001130</td>\n      <td>0.0905</td>\n      <td>0.278</td>\n      <td>144.951</td>\n      <td>226132</td>\n      <td>3</td>\n    </tr>\n  </tbody>\n</table>\n<p>3833 rows × 14 columns</p>\n</div>"
     },
     "execution_count": 16,
     "metadata": {},
     "output_type": "execute_result"
    }
   ],
   "source": [
    "pkl_frame"
   ],
   "metadata": {
    "collapsed": false,
    "pycharm": {
     "name": "#%%\n"
    }
   }
  },
  {
   "cell_type": "code",
   "execution_count": 40,
   "outputs": [
    {
     "data": {
      "text/plain": "Empty DataFrame\nColumns: [id, danceability, energy, key, loudness, mode, speechiness, acousticness, instrumentalness, liveness, valence, tempo, duration_ms, time_signature]\nIndex: []",
      "text/html": "<div>\n<style scoped>\n    .dataframe tbody tr th:only-of-type {\n        vertical-align: middle;\n    }\n\n    .dataframe tbody tr th {\n        vertical-align: top;\n    }\n\n    .dataframe thead th {\n        text-align: right;\n    }\n</style>\n<table border=\"1\" class=\"dataframe\">\n  <thead>\n    <tr style=\"text-align: right;\">\n      <th></th>\n      <th>id</th>\n      <th>danceability</th>\n      <th>energy</th>\n      <th>key</th>\n      <th>loudness</th>\n      <th>mode</th>\n      <th>speechiness</th>\n      <th>acousticness</th>\n      <th>instrumentalness</th>\n      <th>liveness</th>\n      <th>valence</th>\n      <th>tempo</th>\n      <th>duration_ms</th>\n      <th>time_signature</th>\n    </tr>\n  </thead>\n  <tbody>\n  </tbody>\n</table>\n</div>"
     },
     "execution_count": 40,
     "metadata": {},
     "output_type": "execute_result"
    }
   ],
   "source": [
    "pkl_frame[pkl_frame != csv_frame].dropna()\n",
    "### resulting in the fact that pickle and csv will eventually have the same pandas dataframe result"
   ],
   "metadata": {
    "collapsed": false,
    "pycharm": {
     "name": "#%%\n"
    }
   }
  },
  {
   "cell_type": "code",
   "execution_count": 32,
   "outputs": [],
   "source": [
    "id = \"b33beb1ef724488e945f7e3f3479dc21\"\n",
    "secret = \"ccd9afde2698411cb9c1149b17fe9e48\"\n",
    "sp = run_spotify_for_dev(id, secret)\n",
    "modified = create_feature_dataset(['2lUlmXl4nxnLq9MeV9dMlO'], sp)\n",
    "init = create_feature_dataset([\"1OSPNEUOKVoRsw9acP73an\"],sp)"
   ],
   "metadata": {
    "collapsed": false,
    "pycharm": {
     "name": "#%%\n"
    }
   }
  },
  {
   "cell_type": "code",
   "execution_count": 35,
   "outputs": [],
   "source": [
    "# find the nearest neighbor of each song in the main dataset\n",
    "main = pd.read_pickle(\"../../DATABASE/main.pkl\")"
   ],
   "metadata": {
    "collapsed": false,
    "pycharm": {
     "name": "#%%\n"
    }
   }
  },
  {
   "cell_type": "code",
   "execution_count": 60,
   "outputs": [
    {
     "data": {
      "text/plain": "array([-0.9999948601307278, -0.9999963008106292, -0.9999512551913065,\n       -1.0000229750531642, -0.9999945839101452, -0.9999994876378997,\n       -0.9999998922198118, -1.0, -0.9999990738486348,\n       -0.9999951959282988, -0.9992958433257927, -2.496517926849594e-07,\n       -0.9999783356405807], dtype=object)"
     },
     "execution_count": 60,
     "metadata": {},
     "output_type": "execute_result"
    }
   ],
   "source": [
    "from sklearn.preprocessing import normalize\n",
    "a = np.array(main.iloc[3,1:])\n",
    "# norm1 = a / np.linalg.norm(a)\n",
    "(a - np.linalg.norm(a)) / np.linalg.norm(a)"
   ],
   "metadata": {
    "collapsed": false,
    "pycharm": {
     "name": "#%%\n"
    }
   }
  },
  {
   "cell_type": "code",
   "execution_count": null,
   "outputs": [],
   "source": [
    "# create a list of all min distances and using lamba take avg\n",
    "def nearest_neighbor(user_df: pd.DataFrame, main_df: pd.DataFrame):\n",
    "    for shahrad_row in range(user_df.shape[0]):\n",
    "        # iterating thru the rows of the user dataset\n",
    "        shahrad_arr = np.array(user_df.iloc[shahrad_row,1:])\n",
    "        shahrad_normalized = shahrad_arr - shahrad_arr.mean()"
   ],
   "metadata": {
    "collapsed": false,
    "pycharm": {
     "name": "#%%\n"
    }
   }
  }
 ],
 "metadata": {
  "kernelspec": {
   "display_name": "Python 3",
   "language": "python",
   "name": "python3"
  },
  "language_info": {
   "codemirror_mode": {
    "name": "ipython",
    "version": 2
   },
   "file_extension": ".py",
   "mimetype": "text/x-python",
   "name": "python",
   "nbconvert_exporter": "python",
   "pygments_lexer": "ipython2",
   "version": "2.7.6"
  }
 },
 "nbformat": 4,
 "nbformat_minor": 0
}