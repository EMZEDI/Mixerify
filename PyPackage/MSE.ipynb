{
 "cells": [
  {
   "cell_type": "code",
   "execution_count": 37,
   "metadata": {
    "collapsed": true
   },
   "outputs": [],
   "source": [
    "from IOLib_improved import *\n",
    "\n",
    "SPOTIPY_CLIENT_ID = \"\"\n",
    "SECRET = \"\"\n",
    "spotify = spotipy.Spotify(client_credentials_manager=SpotifyClientCredentials(\n",
    "       client_id=SPOTIPY_CLIENT_ID,\n",
    "       client_secret=SECRET))\n",
    "\n",
    "sp = run_spotifyForDev(SPOTIPY_CLIENT_ID, SECRET)"
   ]
  },
  {
   "cell_type": "code",
   "execution_count": 35,
   "outputs": [],
   "source": [
    "import numpy as np\n",
    "from sklearn import preprocessing\n",
    "\n",
    "## MSE computation\n",
    "# For each feature, compute its MSE\n",
    "# use the average value of each input feature as target values\n",
    "# use the average value of each output feature as prediction values\n",
    "\n",
    "def table_MSE(input_: pd.DataFrame, output_: pd.DataFrame):\n",
    "       '''\n",
    "       Creates a data table for the features and their mean squared error\n",
    "       :param input_: pd.Dataframe of input tracks features\n",
    "       :param output_: pd.Dataframe of output tracks features\n",
    "       :return: pd.Dataframe representing the MSE\n",
    "       '''\n",
    "       # get feature names\n",
    "       features = (input_.columns.values.tolist())\n",
    "\n",
    "       # not normalized data (for the table)\n",
    "       y_true = np.mean(np.array(input_), axis=0)\n",
    "       y_pred_mean = np.mean(np.array(output_), axis=0)\n",
    "\n",
    "       # normalize data\n",
    "       input_norm = preprocessing.normalize(input_, axis=0)\n",
    "       output_norm = preprocessing.normalize(output_, axis=0)\n",
    "\n",
    "       # compute the mean of input feature and set it as y_true\n",
    "       y_true_norm = np.mean(np.array(input_norm), axis=0)\n",
    "       y_pred_norm = np.array(output_norm).T\n",
    "       y_pred_norm_mean = np.mean(np.array(output_norm), axis=0)\n",
    "\n",
    "       MSE = []\n",
    "\n",
    "       for i in range(y_pred_norm.shape[0]):\n",
    "              # some sanity checks...\n",
    "              # print(\"y_true is: \", y_true[i])\n",
    "              # print(\"y_pred is: \", y_pred[i], \"\\n\")\n",
    "              mse_ = np.square(np.subtract(y_true_norm[i],y_pred_norm[i])).mean()\n",
    "              MSE.append(mse_)\n",
    "\n",
    "       df = pd.DataFrame(list(zip(features, y_true, y_pred_mean, y_true_norm, y_pred_norm_mean, MSE)),\n",
    "                      columns =['Features', 'Y_true Mean', 'Y_pred Mean', 'Y_true Norm Mean', 'Y_pred Norm Mean', 'MSE'])\n",
    "       return df"
   ],
   "metadata": {
    "collapsed": false,
    "pycharm": {
     "name": "#%%\n"
    }
   }
  },
  {
   "cell_type": "code",
   "execution_count": 34,
   "outputs": [
    {
     "ename": "TypeError",
     "evalue": "This function accepts only strings (the name of an example dataset). You passed a pandas DataFrame. If you have your own dataset, it is not necessary to use this function before plotting.",
     "output_type": "error",
     "traceback": [
      "\u001B[1;31m---------------------------------------------------------------------------\u001B[0m",
      "\u001B[1;31mTypeError\u001B[0m                                 Traceback (most recent call last)",
      "Input \u001B[1;32mIn [34]\u001B[0m, in \u001B[0;36m<cell line: 13>\u001B[1;34m()\u001B[0m\n\u001B[0;32m     10\u001B[0m df_classical_old \u001B[38;5;241m=\u001B[39m table_MSE(input_classical, output_classical_old)\n\u001B[0;32m     11\u001B[0m df_classical_new \u001B[38;5;241m=\u001B[39m table_MSE(input_classical, output_classical_new)\n\u001B[1;32m---> 13\u001B[0m \u001B[43msns\u001B[49m\u001B[38;5;241;43m.\u001B[39;49m\u001B[43mload_dataset\u001B[49m\u001B[43m(\u001B[49m\u001B[43mdf_classical_old\u001B[49m\u001B[43m)\u001B[49m\n\u001B[0;32m     14\u001B[0m plt\u001B[38;5;241m.\u001B[39mshow()\n",
      "File \u001B[1;32mc:\\users\\annay\\appdata\\local\\programs\\python\\python39\\lib\\site-packages\\seaborn\\utils.py:587\u001B[0m, in \u001B[0;36mload_dataset\u001B[1;34m(name, cache, data_home, **kws)\u001B[0m\n\u001B[0;32m    581\u001B[0m \u001B[38;5;28;01mif\u001B[39;00m \u001B[38;5;28misinstance\u001B[39m(name, pd\u001B[38;5;241m.\u001B[39mDataFrame):\n\u001B[0;32m    582\u001B[0m     err \u001B[38;5;241m=\u001B[39m (\n\u001B[0;32m    583\u001B[0m         \u001B[38;5;124m\"\u001B[39m\u001B[38;5;124mThis function accepts only strings (the name of an example dataset). \u001B[39m\u001B[38;5;124m\"\u001B[39m\n\u001B[0;32m    584\u001B[0m         \u001B[38;5;124m\"\u001B[39m\u001B[38;5;124mYou passed a pandas DataFrame. If you have your own dataset, \u001B[39m\u001B[38;5;124m\"\u001B[39m\n\u001B[0;32m    585\u001B[0m         \u001B[38;5;124m\"\u001B[39m\u001B[38;5;124mit is not necessary to use this function before plotting.\u001B[39m\u001B[38;5;124m\"\u001B[39m\n\u001B[0;32m    586\u001B[0m     )\n\u001B[1;32m--> 587\u001B[0m     \u001B[38;5;28;01mraise\u001B[39;00m \u001B[38;5;167;01mTypeError\u001B[39;00m(err)\n\u001B[0;32m    589\u001B[0m url \u001B[38;5;241m=\u001B[39m \u001B[38;5;124mf\u001B[39m\u001B[38;5;124m\"\u001B[39m\u001B[38;5;124mhttps://raw.githubusercontent.com/mwaskom/seaborn-data/master/\u001B[39m\u001B[38;5;132;01m{\u001B[39;00mname\u001B[38;5;132;01m}\u001B[39;00m\u001B[38;5;124m.csv\u001B[39m\u001B[38;5;124m\"\u001B[39m\n\u001B[0;32m    591\u001B[0m \u001B[38;5;28;01mif\u001B[39;00m cache:\n",
      "\u001B[1;31mTypeError\u001B[0m: This function accepts only strings (the name of an example dataset). You passed a pandas DataFrame. If you have your own dataset, it is not necessary to use this function before plotting."
     ]
    }
   ],
   "source": [
    "## MSE for generic classical\n",
    "# generate feature dataframes\n",
    "input_classical = create_feature_dataset(['0w8hF3HAqMIsodoTazOPLS'], sp)\n",
    "output_classical_old = create_feature_dataset(['6hbZMc50vIPZebe2VwMIdI'], sp)\n",
    "output_classical_new = create_feature_dataset(['00bxoi650SwrwxvWiCFV7T'], sp)\n",
    "\n",
    "df_classical_old = table_MSE(input_classical, output_classical_old)\n",
    "df_classical_new = table_MSE(input_classical, output_classical_new)\n",
    "\n",
    "print(df_classical_old)\n",
    "print(df_classical_new)"
   ],
   "metadata": {
    "collapsed": false,
    "pycharm": {
     "name": "#%%\n"
    }
   }
  },
  {
   "cell_type": "code",
   "execution_count": 24,
   "outputs": [
    {
     "name": "stdout",
     "output_type": "stream",
     "text": [
      "            Features    Y_true Mean    Y_pred Mean  Y_true Norm Mean  \\\n",
      "0       danceability       0.657262       0.688196          0.107423   \n",
      "1             energy       0.685643       0.714333          0.106524   \n",
      "2                key       4.976190       4.803922          0.086651   \n",
      "3           loudness      -5.258702      -5.678961         -0.104446   \n",
      "4               mode       0.642857       0.647059          0.087482   \n",
      "5        speechiness       0.081498       0.055624          0.080417   \n",
      "6       acousticness       0.188248       0.131590          0.071137   \n",
      "7   instrumentalness       0.000283       0.000991          0.014701   \n",
      "8           liveness       0.151894       0.135073          0.092987   \n",
      "9            valence       0.573690       0.575647          0.102810   \n",
      "10             tempo     121.546798     117.072882          0.106853   \n",
      "11       duration_ms  214944.440476  206518.156863          0.108106   \n",
      "12    time_signature       4.011905       4.000000          0.108989   \n",
      "\n",
      "    Y_pred Norm Mean       MSE  \n",
      "0           0.138196  0.001457  \n",
      "1           0.137641  0.001631  \n",
      "2           0.109663  0.008112  \n",
      "3          -0.135736  0.002163  \n",
      "4           0.112638  0.007553  \n",
      "5           0.125904  0.005825  \n",
      "6           0.079835  0.013310  \n",
      "7           0.055480  0.018193  \n",
      "8           0.117748  0.006356  \n",
      "9           0.131977  0.003041  \n",
      "10          0.138291  0.001472  \n",
      "11          0.137553  0.001554  \n",
      "12          0.140028  0.000963  \n",
      "            Features    Y_true Mean    Y_pred Mean  Y_true Norm Mean  \\\n",
      "0       danceability       0.657262       0.692235          0.107423   \n",
      "1             energy       0.685643       0.715765          0.106524   \n",
      "2                key       4.976190       4.862745          0.086651   \n",
      "3           loudness      -5.258702      -5.651412         -0.104446   \n",
      "4               mode       0.642857       0.647059          0.087482   \n",
      "5        speechiness       0.081498       0.056818          0.080417   \n",
      "6       acousticness       0.188248       0.139543          0.071137   \n",
      "7   instrumentalness       0.000283       0.001000          0.014701   \n",
      "8           liveness       0.151894       0.134982          0.092987   \n",
      "9            valence       0.573690       0.586000          0.102810   \n",
      "10             tempo     121.546798     117.543118          0.106853   \n",
      "11       duration_ms  214944.440476  206217.843137          0.108106   \n",
      "12    time_signature       4.011905       4.000000          0.108989   \n",
      "\n",
      "    Y_pred Norm Mean       MSE  \n",
      "0           0.138159  0.001465  \n",
      "1           0.137566  0.001647  \n",
      "2           0.110176  0.008023  \n",
      "3          -0.134914  0.002334  \n",
      "4           0.112638  0.007553  \n",
      "5           0.125637  0.005868  \n",
      "6           0.082761  0.012894  \n",
      "7           0.055972  0.018178  \n",
      "8           0.117539  0.006395  \n",
      "9           0.132261  0.002982  \n",
      "10          0.138121  0.001508  \n",
      "11          0.137818  0.001497  \n",
      "12          0.140028  0.000963  \n"
     ]
    }
   ],
   "source": [
    "## MSE for Wendy\n",
    "# generate feature dataframes\n",
    "inputW_ = create_feature_dataset(['1xe5nAy00Rghp8q3qTSxDR'], sp)\n",
    "outputW_old = create_feature_dataset(['3SOpG5TRMkFqnqIotQgtL4'], sp)\n",
    "outputW_new = create_feature_dataset(['3oxitGTfPs9bglBPKWGh5z'], sp)\n",
    "\n",
    "dfW_old = table_MSE(inputW_, outputW_old)\n",
    "dfW_new = table_MSE(inputW_, outputW_new)\n",
    "\n",
    "print(dfW_old)\n",
    "print(dfW_new)"
   ],
   "metadata": {
    "collapsed": false,
    "pycharm": {
     "name": "#%%\n"
    }
   }
  },
  {
   "cell_type": "code",
   "execution_count": 25,
   "outputs": [
    {
     "name": "stdout",
     "output_type": "stream",
     "text": [
      "            Features    Y_true Mean    Y_pred Mean  Y_true Norm Mean  \\\n",
      "0       danceability       0.562118       0.590460          0.168259   \n",
      "1             energy       0.706647       0.733180          0.166815   \n",
      "2                key       4.588235       4.260000          0.135773   \n",
      "3           loudness      -6.449559      -5.847740         -0.161691   \n",
      "4               mode       0.823529       0.840000          0.155632   \n",
      "5        speechiness       0.054653       0.054880          0.151982   \n",
      "6       acousticness       0.133162       0.102242          0.099832   \n",
      "7   instrumentalness       0.053147       0.003182          0.048742   \n",
      "8           liveness       0.160662       0.170992          0.144542   \n",
      "9            valence       0.393674       0.452000          0.153352   \n",
      "10             tempo     120.150235     119.885420          0.168304   \n",
      "11       duration_ms  227559.882353  203955.840000          0.169199   \n",
      "12    time_signature       3.911765       4.000000          0.171050   \n",
      "\n",
      "    Y_pred Norm Mean       MSE  \n",
      "0           0.139693  0.001302  \n",
      "1           0.138118  0.001747  \n",
      "2           0.113651  0.007573  \n",
      "3          -0.133897  0.002844  \n",
      "4           0.129615  0.003877  \n",
      "5           0.129270  0.003805  \n",
      "6           0.078618  0.014269  \n",
      "7           0.043459  0.018139  \n",
      "8           0.116756  0.007140  \n",
      "9           0.130725  0.003423  \n",
      "10          0.138852  0.001588  \n",
      "11          0.137969  0.001940  \n",
      "12          0.141421  0.000878  \n",
      "            Features    Y_true Mean    Y_pred Mean  Y_true Norm Mean  \\\n",
      "0       danceability       0.562118       0.590460          0.168259   \n",
      "1             energy       0.706647       0.733180          0.166815   \n",
      "2                key       4.588235       4.260000          0.135773   \n",
      "3           loudness      -6.449559      -5.847740         -0.161691   \n",
      "4               mode       0.823529       0.840000          0.155632   \n",
      "5        speechiness       0.054653       0.054880          0.151982   \n",
      "6       acousticness       0.133162       0.102242          0.099832   \n",
      "7   instrumentalness       0.053147       0.003182          0.048742   \n",
      "8           liveness       0.160662       0.170992          0.144542   \n",
      "9            valence       0.393674       0.452000          0.153352   \n",
      "10             tempo     120.150235     119.885420          0.168304   \n",
      "11       duration_ms  227559.882353  203955.840000          0.169199   \n",
      "12    time_signature       3.911765       4.000000          0.171050   \n",
      "\n",
      "    Y_pred Norm Mean       MSE  \n",
      "0           0.139693  0.001302  \n",
      "1           0.138118  0.001747  \n",
      "2           0.113651  0.007573  \n",
      "3          -0.133897  0.002844  \n",
      "4           0.129615  0.003877  \n",
      "5           0.129270  0.003805  \n",
      "6           0.078618  0.014269  \n",
      "7           0.043459  0.018139  \n",
      "8           0.116756  0.007140  \n",
      "9           0.130725  0.003423  \n",
      "10          0.138852  0.001588  \n",
      "11          0.137969  0.001940  \n",
      "12          0.141421  0.000878  \n"
     ]
    }
   ],
   "source": [
    "## MSE for Bonnie\n",
    "# generate feature dataframes\n",
    "inputB_ = create_feature_dataset(['3XL46hsF6P384x1Sr79CfF'], sp)\n",
    "outputB_old = create_feature_dataset(['454MhNXJqfxlzgNnLBdHD3'], sp)\n",
    "outputB_new = create_feature_dataset(['0oDuGvkkReu5J5Imth7g41'], sp)\n",
    "\n",
    "dfB_old = table_MSE(inputB_, outputB_old)\n",
    "dfB_new = table_MSE(inputB_, outputB_new)\n",
    "\n",
    "print(dfB_old)\n",
    "print(dfB_new)"
   ],
   "metadata": {
    "collapsed": false,
    "pycharm": {
     "name": "#%%\n"
    }
   }
  },
  {
   "cell_type": "code",
   "execution_count": 26,
   "outputs": [
    {
     "name": "stdout",
     "output_type": "stream",
     "text": [
      "            Features    Y_true Mean    Y_pred Mean  Y_true Norm Mean  \\\n",
      "0       danceability       0.593207       0.618184          0.180447   \n",
      "1             energy       0.537897       0.563041          0.177399   \n",
      "2                key       4.931034       4.857143          0.149152   \n",
      "3           loudness      -7.293345      -7.953388         -0.175149   \n",
      "4               mode       0.620690       0.612245          0.146298   \n",
      "5        speechiness       0.099145       0.084927          0.141079   \n",
      "6       acousticness       0.314702       0.303267          0.140054   \n",
      "7   instrumentalness       0.007129       0.002860          0.034607   \n",
      "8           liveness       0.201079       0.176806          0.153459   \n",
      "9            valence       0.362634       0.365020          0.167979   \n",
      "10             tempo     130.124276     123.718571          0.180431   \n",
      "11       duration_ms  210276.034483  194157.183673          0.182658   \n",
      "12    time_signature       3.862069       3.938776          0.184537   \n",
      "\n",
      "    Y_pred Norm Mean       MSE  \n",
      "0           0.140389  0.002304  \n",
      "1           0.135753  0.003714  \n",
      "2           0.113791  0.008710  \n",
      "3          -0.134141  0.004096  \n",
      "4           0.111780  0.009105  \n",
      "5           0.101250  0.011743  \n",
      "6           0.102526  0.011305  \n",
      "7           0.047292  0.018333  \n",
      "8           0.126920  0.005004  \n",
      "9           0.128058  0.005603  \n",
      "10          0.139417  0.002653  \n",
      "11          0.140962  0.002276  \n",
      "12          0.142593  0.001835  \n",
      "            Features    Y_true Mean    Y_pred Mean  Y_true Norm Mean  \\\n",
      "0       danceability       0.593207       0.618184          0.180447   \n",
      "1             energy       0.537897       0.563041          0.177399   \n",
      "2                key       4.931034       4.857143          0.149152   \n",
      "3           loudness      -7.293345      -7.953388         -0.175149   \n",
      "4               mode       0.620690       0.612245          0.146298   \n",
      "5        speechiness       0.099145       0.084927          0.141079   \n",
      "6       acousticness       0.314702       0.303267          0.140054   \n",
      "7   instrumentalness       0.007129       0.002860          0.034607   \n",
      "8           liveness       0.201079       0.176806          0.153459   \n",
      "9            valence       0.362634       0.365020          0.167979   \n",
      "10             tempo     130.124276     123.718571          0.180431   \n",
      "11       duration_ms  210276.034483  194157.183673          0.182658   \n",
      "12    time_signature       3.862069       3.938776          0.184537   \n",
      "\n",
      "    Y_pred Norm Mean       MSE  \n",
      "0           0.140389  0.002304  \n",
      "1           0.135753  0.003714  \n",
      "2           0.113791  0.008710  \n",
      "3          -0.134141  0.004096  \n",
      "4           0.111780  0.009105  \n",
      "5           0.101250  0.011743  \n",
      "6           0.102526  0.011305  \n",
      "7           0.047292  0.018333  \n",
      "8           0.126920  0.005004  \n",
      "9           0.128058  0.005603  \n",
      "10          0.139417  0.002653  \n",
      "11          0.140962  0.002276  \n",
      "12          0.142593  0.001835  \n"
     ]
    }
   ],
   "source": [
    "## MSE for Clara\n",
    "# generate feature dataframes\n",
    "inputB_ = create_feature_dataset(['16Uj14Ek0EREN2NmKe8FOB'], sp)\n",
    "outputB_old = create_feature_dataset(['3DYfJOlskaUfbsHdl65Y9c'], sp)\n",
    "outputB_new = create_feature_dataset(['5kgkve4K0y0QxcdeWv077z'], sp)\n",
    "\n",
    "dfB_old = table_MSE(inputB_, outputB_old)\n",
    "dfB_new = table_MSE(inputB_, outputB_new)\n",
    "\n",
    "print(dfB_old)\n",
    "print(dfB_new)"
   ],
   "metadata": {
    "collapsed": false,
    "pycharm": {
     "name": "#%%\n"
    }
   }
  }
 ],
 "metadata": {
  "kernelspec": {
   "display_name": "Python 3",
   "language": "python",
   "name": "python3"
  },
  "language_info": {
   "codemirror_mode": {
    "name": "ipython",
    "version": 2
   },
   "file_extension": ".py",
   "mimetype": "text/x-python",
   "name": "python",
   "nbconvert_exporter": "python",
   "pygments_lexer": "ipython2",
   "version": "2.7.6"
  }
 },
 "nbformat": 4,
 "nbformat_minor": 0
}