{
 "cells": [
  {
   "cell_type": "code",
   "execution_count": 58,
   "metadata": {
    "collapsed": true
   },
   "outputs": [],
   "source": [
    "from IOLib_improved import *\n",
    "import numpy as np\n",
    "\n",
    "SPOTIPY_CLIENT_ID = \"\"\n",
    "SECRET = \"\"\n",
    "input_playlist_ID = \"\"\n",
    "output_playlist_ID = \"\"\n",
    "spotify = spotipy.Spotify(client_credentials_manager=SpotifyClientCredentials(\n",
    "       client_id=SPOTIPY_CLIENT_ID,\n",
    "       client_secret=SECRET))\n",
    "\n",
    "sp = run_spotifyForDev(SPOTIPY_CLIENT_ID, SECRET)\n",
    "\n",
    "# generate feature dataframes\n",
    "input_ = create_feature_dataset([input_playlist_ID], sp)\n",
    "output_ = create_feature_dataset([output_playlist_ID], sp)"
   ]
  },
  {
   "cell_type": "code",
   "execution_count": 80,
   "outputs": [
    {
     "data": {
      "text/plain": "            Features    Y_true Mean    Y_pred Mean           MSE\n0       danceability       0.747333       0.755400  1.741843e-02\n1             energy       0.624067       0.657780  1.731896e-02\n2                key       5.653333       5.360000  1.291644e+01\n3           loudness      -7.231440      -6.332520  4.223132e+00\n4               mode       0.466667       0.460000  2.484444e-01\n5        speechiness       0.183063       0.116448  1.120944e-02\n6       acousticness       0.242680       0.205020  4.066651e-02\n7   instrumentalness       0.023424       0.003267  4.659948e-04\n8           liveness       0.185365       0.130702  1.396032e-02\n9            valence       0.542859       0.561476  4.799685e-02\n10             tempo     112.430867     111.018100  3.665797e+02\n11       duration_ms  189435.333333  195503.540000  1.368852e+09\n12    time_signature       3.960000       3.980000  2.000000e-02",
      "text/html": "<div>\n<style scoped>\n    .dataframe tbody tr th:only-of-type {\n        vertical-align: middle;\n    }\n\n    .dataframe tbody tr th {\n        vertical-align: top;\n    }\n\n    .dataframe thead th {\n        text-align: right;\n    }\n</style>\n<table border=\"1\" class=\"dataframe\">\n  <thead>\n    <tr style=\"text-align: right;\">\n      <th></th>\n      <th>Features</th>\n      <th>Y_true Mean</th>\n      <th>Y_pred Mean</th>\n      <th>MSE</th>\n    </tr>\n  </thead>\n  <tbody>\n    <tr>\n      <th>0</th>\n      <td>danceability</td>\n      <td>0.747333</td>\n      <td>0.755400</td>\n      <td>1.741843e-02</td>\n    </tr>\n    <tr>\n      <th>1</th>\n      <td>energy</td>\n      <td>0.624067</td>\n      <td>0.657780</td>\n      <td>1.731896e-02</td>\n    </tr>\n    <tr>\n      <th>2</th>\n      <td>key</td>\n      <td>5.653333</td>\n      <td>5.360000</td>\n      <td>1.291644e+01</td>\n    </tr>\n    <tr>\n      <th>3</th>\n      <td>loudness</td>\n      <td>-7.231440</td>\n      <td>-6.332520</td>\n      <td>4.223132e+00</td>\n    </tr>\n    <tr>\n      <th>4</th>\n      <td>mode</td>\n      <td>0.466667</td>\n      <td>0.460000</td>\n      <td>2.484444e-01</td>\n    </tr>\n    <tr>\n      <th>5</th>\n      <td>speechiness</td>\n      <td>0.183063</td>\n      <td>0.116448</td>\n      <td>1.120944e-02</td>\n    </tr>\n    <tr>\n      <th>6</th>\n      <td>acousticness</td>\n      <td>0.242680</td>\n      <td>0.205020</td>\n      <td>4.066651e-02</td>\n    </tr>\n    <tr>\n      <th>7</th>\n      <td>instrumentalness</td>\n      <td>0.023424</td>\n      <td>0.003267</td>\n      <td>4.659948e-04</td>\n    </tr>\n    <tr>\n      <th>8</th>\n      <td>liveness</td>\n      <td>0.185365</td>\n      <td>0.130702</td>\n      <td>1.396032e-02</td>\n    </tr>\n    <tr>\n      <th>9</th>\n      <td>valence</td>\n      <td>0.542859</td>\n      <td>0.561476</td>\n      <td>4.799685e-02</td>\n    </tr>\n    <tr>\n      <th>10</th>\n      <td>tempo</td>\n      <td>112.430867</td>\n      <td>111.018100</td>\n      <td>3.665797e+02</td>\n    </tr>\n    <tr>\n      <th>11</th>\n      <td>duration_ms</td>\n      <td>189435.333333</td>\n      <td>195503.540000</td>\n      <td>1.368852e+09</td>\n    </tr>\n    <tr>\n      <th>12</th>\n      <td>time_signature</td>\n      <td>3.960000</td>\n      <td>3.980000</td>\n      <td>2.000000e-02</td>\n    </tr>\n  </tbody>\n</table>\n</div>"
     },
     "execution_count": 80,
     "metadata": {},
     "output_type": "execute_result"
    }
   ],
   "source": [
    "## MSE computation\n",
    "# For each feature, compute its MSE\n",
    "# use the average value of each input feature as target values\n",
    "# use the average value of each output feature as prediction values\n",
    "\n",
    "features = (input_.columns.values.tolist())\n",
    "\n",
    "y_true = np.mean(np.array(input_), axis=0)\n",
    "y_pred = np.array(output_).T\n",
    "y_pred_mean = np.mean(np.array(output_), axis=0)\n",
    "\n",
    "MSE = []\n",
    "\n",
    "for i in range(y_pred.shape[0]):\n",
    "       # some sanity checks...\n",
    "       # print(\"y_true is: \", y_true[i])\n",
    "       # print(\"y_pred is: \", y_pred[i], \"\\n\")\n",
    "       mse_ = np.square(np.subtract(y_true[i],y_pred[i])).mean()\n",
    "       MSE.append(mse_)\n",
    "\n",
    "df = pd.DataFrame(list(zip(features, y_true, y_pred_mean, MSE)),\n",
    "               columns =['Features', 'Y_true Mean', 'Y_pred Mean', 'MSE'])\n",
    "df"
   ],
   "metadata": {
    "collapsed": false,
    "pycharm": {
     "name": "#%%\n"
    }
   }
  }
 ],
 "metadata": {
  "kernelspec": {
   "display_name": "Python 3",
   "language": "python",
   "name": "python3"
  },
  "language_info": {
   "codemirror_mode": {
    "name": "ipython",
    "version": 2
   },
   "file_extension": ".py",
   "mimetype": "text/x-python",
   "name": "python",
   "nbconvert_exporter": "python",
   "pygments_lexer": "ipython2",
   "version": "2.7.6"
  }
 },
 "nbformat": 4,
 "nbformat_minor": 0
}