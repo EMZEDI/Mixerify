{
 "cells": [
  {
   "cell_type": "code",
   "execution_count": 38,
   "metadata": {
    "collapsed": true
   },
   "outputs": [],
   "source": [
    "from IOLib_improved import *\n",
    "\n",
    "SPOTIPY_CLIENT_ID = \"\"\n",
    "SECRET = \"\"\n",
    "spotify = spotipy.Spotify(client_credentials_manager=SpotifyClientCredentials(\n",
    "       client_id=SPOTIPY_CLIENT_ID,\n",
    "       client_secret=SECRET))\n",
    "\n",
    "sp = run_spotifyForDev(SPOTIPY_CLIENT_ID, SECRET)"
   ]
  },
  {
   "cell_type": "code",
   "execution_count": 39,
   "outputs": [],
   "source": [
    "import numpy as np\n",
    "from sklearn import preprocessing\n",
    "\n",
    "## MSE computation\n",
    "# For each feature, compute its MSE\n",
    "# use the average value of each input feature as target values\n",
    "# use the average value of each output feature as prediction values\n",
    "\n",
    "def table_MSE(input_: pd.DataFrame, output_: pd.DataFrame):\n",
    "       '''\n",
    "       Creates a data table for the features and their mean squared error\n",
    "       :param input_: pd.Dataframe of input tracks features\n",
    "       :param output_: pd.Dataframe of output tracks features\n",
    "       :return: pd.Dataframe representing the MSE\n",
    "       '''\n",
    "       # get feature names\n",
    "       features = (input_.columns.values.tolist())\n",
    "\n",
    "       # not normalized data (for the table)\n",
    "       y_true = np.mean(np.array(input_), axis=0)\n",
    "       y_pred_mean = np.mean(np.array(output_), axis=0)\n",
    "\n",
    "       # normalize data\n",
    "       input_norm = preprocessing.normalize(input_, axis=0)\n",
    "       output_norm = preprocessing.normalize(output_, axis=0)\n",
    "\n",
    "       # compute the mean of input feature and set it as y_true\n",
    "       y_true_norm = np.mean(np.array(input_norm), axis=0)\n",
    "       y_pred_norm = np.array(output_norm).T\n",
    "       y_pred_norm_mean = np.mean(np.array(output_norm), axis=0)\n",
    "\n",
    "       MSE = []\n",
    "\n",
    "       for i in range(y_pred_norm.shape[0]):\n",
    "              # some sanity checks...\n",
    "              # print(\"y_true is: \", y_true[i])\n",
    "              # print(\"y_pred is: \", y_pred[i], \"\\n\")\n",
    "              mse_ = np.square(np.subtract(y_true_norm[i],y_pred_norm[i])).mean()\n",
    "              MSE.append(mse_)\n",
    "\n",
    "       df = pd.DataFrame(list(zip(features, y_true, y_pred_mean, y_true_norm, y_pred_norm_mean, MSE)),\n",
    "                      columns =['Features', 'Y_true Mean', 'Y_pred Mean', 'Y_true Norm Mean', 'Y_pred Norm Mean', 'MSE'])\n",
    "       return df"
   ],
   "metadata": {
    "collapsed": false,
    "pycharm": {
     "name": "#%%\n"
    }
   }
  },
  {
   "cell_type": "code",
   "execution_count": 46,
   "outputs": [],
   "source": [
    "## MSE for generic classical\n",
    "# generate feature dataframes\n",
    "input_classical = create_feature_dataset(['0w8hF3HAqMIsodoTazOPLS'], sp)\n",
    "output_classical_old = create_feature_dataset(['6hbZMc50vIPZebe2VwMIdI'], sp)\n",
    "output_classical_new = create_feature_dataset(['00bxoi650SwrwxvWiCFV7T'], sp)\n"
   ],
   "metadata": {
    "collapsed": false,
    "pycharm": {
     "name": "#%%\n"
    }
   }
  },
  {
   "cell_type": "code",
   "execution_count": 49,
   "outputs": [
    {
     "data": {
      "text/plain": "            Features    Y_true Mean    Y_pred Mean  Y_true Norm Mean  \\\n0       danceability       0.302178       0.303498          0.127791   \n1             energy       0.213662       0.186703          0.119724   \n2                key       4.720000       4.700000          0.117560   \n3           loudness     -16.757540     -18.160840         -0.136499   \n4               mode       0.660000       0.660000          0.114891   \n5        speechiness       0.040494       0.040186          0.139140   \n6       acousticness       0.927420       0.918220          0.140837   \n7   instrumentalness       0.729223       0.723944          0.131707   \n8           liveness       0.143838       0.119072          0.125679   \n9            valence       0.219438       0.218000          0.103723   \n10             tempo     107.361000     100.507560          0.136799   \n11       duration_ms  315879.720000  307178.840000          0.128447   \n12    time_signature       3.700000       3.700000          0.138372   \n\n    Y_pred Norm Mean       MSE  \n0           0.129181  0.003314  \n1           0.115753  0.006617  \n2           0.114634  0.006868  \n3          -0.135349  0.001682  \n4           0.114891  0.006800  \n5           0.139984  0.000405  \n6           0.140689  0.000206  \n7           0.129568  0.003217  \n8           0.132344  0.002529  \n9           0.106255  0.008716  \n10          0.135085  0.001755  \n11          0.129564  0.003214  \n12          0.139153  0.000637  ",
      "text/html": "<div>\n<style scoped>\n    .dataframe tbody tr th:only-of-type {\n        vertical-align: middle;\n    }\n\n    .dataframe tbody tr th {\n        vertical-align: top;\n    }\n\n    .dataframe thead th {\n        text-align: right;\n    }\n</style>\n<table border=\"1\" class=\"dataframe\">\n  <thead>\n    <tr style=\"text-align: right;\">\n      <th></th>\n      <th>Features</th>\n      <th>Y_true Mean</th>\n      <th>Y_pred Mean</th>\n      <th>Y_true Norm Mean</th>\n      <th>Y_pred Norm Mean</th>\n      <th>MSE</th>\n    </tr>\n  </thead>\n  <tbody>\n    <tr>\n      <th>0</th>\n      <td>danceability</td>\n      <td>0.302178</td>\n      <td>0.303498</td>\n      <td>0.127791</td>\n      <td>0.129181</td>\n      <td>0.003314</td>\n    </tr>\n    <tr>\n      <th>1</th>\n      <td>energy</td>\n      <td>0.213662</td>\n      <td>0.186703</td>\n      <td>0.119724</td>\n      <td>0.115753</td>\n      <td>0.006617</td>\n    </tr>\n    <tr>\n      <th>2</th>\n      <td>key</td>\n      <td>4.720000</td>\n      <td>4.700000</td>\n      <td>0.117560</td>\n      <td>0.114634</td>\n      <td>0.006868</td>\n    </tr>\n    <tr>\n      <th>3</th>\n      <td>loudness</td>\n      <td>-16.757540</td>\n      <td>-18.160840</td>\n      <td>-0.136499</td>\n      <td>-0.135349</td>\n      <td>0.001682</td>\n    </tr>\n    <tr>\n      <th>4</th>\n      <td>mode</td>\n      <td>0.660000</td>\n      <td>0.660000</td>\n      <td>0.114891</td>\n      <td>0.114891</td>\n      <td>0.006800</td>\n    </tr>\n    <tr>\n      <th>5</th>\n      <td>speechiness</td>\n      <td>0.040494</td>\n      <td>0.040186</td>\n      <td>0.139140</td>\n      <td>0.139984</td>\n      <td>0.000405</td>\n    </tr>\n    <tr>\n      <th>6</th>\n      <td>acousticness</td>\n      <td>0.927420</td>\n      <td>0.918220</td>\n      <td>0.140837</td>\n      <td>0.140689</td>\n      <td>0.000206</td>\n    </tr>\n    <tr>\n      <th>7</th>\n      <td>instrumentalness</td>\n      <td>0.729223</td>\n      <td>0.723944</td>\n      <td>0.131707</td>\n      <td>0.129568</td>\n      <td>0.003217</td>\n    </tr>\n    <tr>\n      <th>8</th>\n      <td>liveness</td>\n      <td>0.143838</td>\n      <td>0.119072</td>\n      <td>0.125679</td>\n      <td>0.132344</td>\n      <td>0.002529</td>\n    </tr>\n    <tr>\n      <th>9</th>\n      <td>valence</td>\n      <td>0.219438</td>\n      <td>0.218000</td>\n      <td>0.103723</td>\n      <td>0.106255</td>\n      <td>0.008716</td>\n    </tr>\n    <tr>\n      <th>10</th>\n      <td>tempo</td>\n      <td>107.361000</td>\n      <td>100.507560</td>\n      <td>0.136799</td>\n      <td>0.135085</td>\n      <td>0.001755</td>\n    </tr>\n    <tr>\n      <th>11</th>\n      <td>duration_ms</td>\n      <td>315879.720000</td>\n      <td>307178.840000</td>\n      <td>0.128447</td>\n      <td>0.129564</td>\n      <td>0.003214</td>\n    </tr>\n    <tr>\n      <th>12</th>\n      <td>time_signature</td>\n      <td>3.700000</td>\n      <td>3.700000</td>\n      <td>0.138372</td>\n      <td>0.139153</td>\n      <td>0.000637</td>\n    </tr>\n  </tbody>\n</table>\n</div>"
     },
     "execution_count": 49,
     "metadata": {},
     "output_type": "execute_result"
    }
   ],
   "source": [
    "df_classical_old = table_MSE(input_classical, output_classical_old)\n",
    "df_classical_old"
   ],
   "metadata": {
    "collapsed": false,
    "pycharm": {
     "name": "#%%\n"
    }
   }
  },
  {
   "cell_type": "code",
   "execution_count": 50,
   "outputs": [
    {
     "data": {
      "text/plain": "            Features    Y_true Mean    Y_pred Mean  Y_true Norm Mean  \\\n0       danceability       0.302178       0.301178          0.127791   \n1             energy       0.213662       0.188083          0.119724   \n2                key       4.720000       4.720000          0.117560   \n3           loudness     -16.757540     -18.187820         -0.136499   \n4               mode       0.660000       0.660000          0.114891   \n5        speechiness       0.040494       0.040088          0.139140   \n6       acousticness       0.927420       0.914120          0.140837   \n7   instrumentalness       0.729223       0.725177          0.131707   \n8           liveness       0.143838       0.120132          0.125679   \n9            valence       0.219438       0.224540          0.103723   \n10             tempo     107.361000     100.955760          0.136799   \n11       duration_ms  315879.720000  307514.380000          0.128447   \n12    time_signature       3.700000       3.700000          0.138372   \n\n    Y_pred Norm Mean       MSE  \n0           0.129640  0.003197  \n1           0.115539  0.006668  \n2           0.114747  0.006841  \n3          -0.135423  0.001662  \n4           0.114891  0.006800  \n5           0.139910  0.000426  \n6           0.140651  0.000217  \n7           0.129780  0.003161  \n8           0.132209  0.002563  \n9           0.105193  0.008937  \n10          0.135135  0.001741  \n11          0.129631  0.003197  \n12          0.139153  0.000637  ",
      "text/html": "<div>\n<style scoped>\n    .dataframe tbody tr th:only-of-type {\n        vertical-align: middle;\n    }\n\n    .dataframe tbody tr th {\n        vertical-align: top;\n    }\n\n    .dataframe thead th {\n        text-align: right;\n    }\n</style>\n<table border=\"1\" class=\"dataframe\">\n  <thead>\n    <tr style=\"text-align: right;\">\n      <th></th>\n      <th>Features</th>\n      <th>Y_true Mean</th>\n      <th>Y_pred Mean</th>\n      <th>Y_true Norm Mean</th>\n      <th>Y_pred Norm Mean</th>\n      <th>MSE</th>\n    </tr>\n  </thead>\n  <tbody>\n    <tr>\n      <th>0</th>\n      <td>danceability</td>\n      <td>0.302178</td>\n      <td>0.301178</td>\n      <td>0.127791</td>\n      <td>0.129640</td>\n      <td>0.003197</td>\n    </tr>\n    <tr>\n      <th>1</th>\n      <td>energy</td>\n      <td>0.213662</td>\n      <td>0.188083</td>\n      <td>0.119724</td>\n      <td>0.115539</td>\n      <td>0.006668</td>\n    </tr>\n    <tr>\n      <th>2</th>\n      <td>key</td>\n      <td>4.720000</td>\n      <td>4.720000</td>\n      <td>0.117560</td>\n      <td>0.114747</td>\n      <td>0.006841</td>\n    </tr>\n    <tr>\n      <th>3</th>\n      <td>loudness</td>\n      <td>-16.757540</td>\n      <td>-18.187820</td>\n      <td>-0.136499</td>\n      <td>-0.135423</td>\n      <td>0.001662</td>\n    </tr>\n    <tr>\n      <th>4</th>\n      <td>mode</td>\n      <td>0.660000</td>\n      <td>0.660000</td>\n      <td>0.114891</td>\n      <td>0.114891</td>\n      <td>0.006800</td>\n    </tr>\n    <tr>\n      <th>5</th>\n      <td>speechiness</td>\n      <td>0.040494</td>\n      <td>0.040088</td>\n      <td>0.139140</td>\n      <td>0.139910</td>\n      <td>0.000426</td>\n    </tr>\n    <tr>\n      <th>6</th>\n      <td>acousticness</td>\n      <td>0.927420</td>\n      <td>0.914120</td>\n      <td>0.140837</td>\n      <td>0.140651</td>\n      <td>0.000217</td>\n    </tr>\n    <tr>\n      <th>7</th>\n      <td>instrumentalness</td>\n      <td>0.729223</td>\n      <td>0.725177</td>\n      <td>0.131707</td>\n      <td>0.129780</td>\n      <td>0.003161</td>\n    </tr>\n    <tr>\n      <th>8</th>\n      <td>liveness</td>\n      <td>0.143838</td>\n      <td>0.120132</td>\n      <td>0.125679</td>\n      <td>0.132209</td>\n      <td>0.002563</td>\n    </tr>\n    <tr>\n      <th>9</th>\n      <td>valence</td>\n      <td>0.219438</td>\n      <td>0.224540</td>\n      <td>0.103723</td>\n      <td>0.105193</td>\n      <td>0.008937</td>\n    </tr>\n    <tr>\n      <th>10</th>\n      <td>tempo</td>\n      <td>107.361000</td>\n      <td>100.955760</td>\n      <td>0.136799</td>\n      <td>0.135135</td>\n      <td>0.001741</td>\n    </tr>\n    <tr>\n      <th>11</th>\n      <td>duration_ms</td>\n      <td>315879.720000</td>\n      <td>307514.380000</td>\n      <td>0.128447</td>\n      <td>0.129631</td>\n      <td>0.003197</td>\n    </tr>\n    <tr>\n      <th>12</th>\n      <td>time_signature</td>\n      <td>3.700000</td>\n      <td>3.700000</td>\n      <td>0.138372</td>\n      <td>0.139153</td>\n      <td>0.000637</td>\n    </tr>\n  </tbody>\n</table>\n</div>"
     },
     "execution_count": 50,
     "metadata": {},
     "output_type": "execute_result"
    }
   ],
   "source": [
    "df_classical_new = table_MSE(input_classical, output_classical_new)\n",
    "df_classical_new"
   ],
   "metadata": {
    "collapsed": false,
    "pycharm": {
     "name": "#%%\n"
    }
   }
  },
  {
   "cell_type": "code",
   "execution_count": 52,
   "outputs": [],
   "source": [
    "## MSE for Wendy\n",
    "# generate feature dataframes\n",
    "inputW_ = create_feature_dataset(['1xe5nAy00Rghp8q3qTSxDR'], sp)\n",
    "outputW_old = create_feature_dataset(['3SOpG5TRMkFqnqIotQgtL4'], sp)\n",
    "outputW_new = create_feature_dataset(['3oxitGTfPs9bglBPKWGh5z'], sp)"
   ],
   "metadata": {
    "collapsed": false,
    "pycharm": {
     "name": "#%%\n"
    }
   }
  },
  {
   "cell_type": "code",
   "execution_count": 53,
   "outputs": [
    {
     "data": {
      "text/plain": "            Features    Y_true Mean    Y_pred Mean  Y_true Norm Mean  \\\n0       danceability       0.657262       0.688196          0.107423   \n1             energy       0.685643       0.714333          0.106524   \n2                key       4.976190       4.803922          0.086651   \n3           loudness      -5.258702      -5.678961         -0.104446   \n4               mode       0.642857       0.647059          0.087482   \n5        speechiness       0.081498       0.055624          0.080417   \n6       acousticness       0.188248       0.131590          0.071137   \n7   instrumentalness       0.000283       0.000991          0.014701   \n8           liveness       0.151894       0.135073          0.092987   \n9            valence       0.573690       0.575647          0.102810   \n10             tempo     121.546798     117.072882          0.106853   \n11       duration_ms  214944.440476  206518.156863          0.108106   \n12    time_signature       4.011905       4.000000          0.108989   \n\n    Y_pred Norm Mean       MSE  \n0           0.138196  0.001457  \n1           0.137641  0.001631  \n2           0.109663  0.008112  \n3          -0.135736  0.002163  \n4           0.112638  0.007553  \n5           0.125904  0.005825  \n6           0.079835  0.013310  \n7           0.055480  0.018193  \n8           0.117748  0.006356  \n9           0.131977  0.003041  \n10          0.138291  0.001472  \n11          0.137553  0.001554  \n12          0.140028  0.000963  ",
      "text/html": "<div>\n<style scoped>\n    .dataframe tbody tr th:only-of-type {\n        vertical-align: middle;\n    }\n\n    .dataframe tbody tr th {\n        vertical-align: top;\n    }\n\n    .dataframe thead th {\n        text-align: right;\n    }\n</style>\n<table border=\"1\" class=\"dataframe\">\n  <thead>\n    <tr style=\"text-align: right;\">\n      <th></th>\n      <th>Features</th>\n      <th>Y_true Mean</th>\n      <th>Y_pred Mean</th>\n      <th>Y_true Norm Mean</th>\n      <th>Y_pred Norm Mean</th>\n      <th>MSE</th>\n    </tr>\n  </thead>\n  <tbody>\n    <tr>\n      <th>0</th>\n      <td>danceability</td>\n      <td>0.657262</td>\n      <td>0.688196</td>\n      <td>0.107423</td>\n      <td>0.138196</td>\n      <td>0.001457</td>\n    </tr>\n    <tr>\n      <th>1</th>\n      <td>energy</td>\n      <td>0.685643</td>\n      <td>0.714333</td>\n      <td>0.106524</td>\n      <td>0.137641</td>\n      <td>0.001631</td>\n    </tr>\n    <tr>\n      <th>2</th>\n      <td>key</td>\n      <td>4.976190</td>\n      <td>4.803922</td>\n      <td>0.086651</td>\n      <td>0.109663</td>\n      <td>0.008112</td>\n    </tr>\n    <tr>\n      <th>3</th>\n      <td>loudness</td>\n      <td>-5.258702</td>\n      <td>-5.678961</td>\n      <td>-0.104446</td>\n      <td>-0.135736</td>\n      <td>0.002163</td>\n    </tr>\n    <tr>\n      <th>4</th>\n      <td>mode</td>\n      <td>0.642857</td>\n      <td>0.647059</td>\n      <td>0.087482</td>\n      <td>0.112638</td>\n      <td>0.007553</td>\n    </tr>\n    <tr>\n      <th>5</th>\n      <td>speechiness</td>\n      <td>0.081498</td>\n      <td>0.055624</td>\n      <td>0.080417</td>\n      <td>0.125904</td>\n      <td>0.005825</td>\n    </tr>\n    <tr>\n      <th>6</th>\n      <td>acousticness</td>\n      <td>0.188248</td>\n      <td>0.131590</td>\n      <td>0.071137</td>\n      <td>0.079835</td>\n      <td>0.013310</td>\n    </tr>\n    <tr>\n      <th>7</th>\n      <td>instrumentalness</td>\n      <td>0.000283</td>\n      <td>0.000991</td>\n      <td>0.014701</td>\n      <td>0.055480</td>\n      <td>0.018193</td>\n    </tr>\n    <tr>\n      <th>8</th>\n      <td>liveness</td>\n      <td>0.151894</td>\n      <td>0.135073</td>\n      <td>0.092987</td>\n      <td>0.117748</td>\n      <td>0.006356</td>\n    </tr>\n    <tr>\n      <th>9</th>\n      <td>valence</td>\n      <td>0.573690</td>\n      <td>0.575647</td>\n      <td>0.102810</td>\n      <td>0.131977</td>\n      <td>0.003041</td>\n    </tr>\n    <tr>\n      <th>10</th>\n      <td>tempo</td>\n      <td>121.546798</td>\n      <td>117.072882</td>\n      <td>0.106853</td>\n      <td>0.138291</td>\n      <td>0.001472</td>\n    </tr>\n    <tr>\n      <th>11</th>\n      <td>duration_ms</td>\n      <td>214944.440476</td>\n      <td>206518.156863</td>\n      <td>0.108106</td>\n      <td>0.137553</td>\n      <td>0.001554</td>\n    </tr>\n    <tr>\n      <th>12</th>\n      <td>time_signature</td>\n      <td>4.011905</td>\n      <td>4.000000</td>\n      <td>0.108989</td>\n      <td>0.140028</td>\n      <td>0.000963</td>\n    </tr>\n  </tbody>\n</table>\n</div>"
     },
     "execution_count": 53,
     "metadata": {},
     "output_type": "execute_result"
    }
   ],
   "source": [
    "dfW_old = table_MSE(inputW_, outputW_old)\n",
    "dfW_old"
   ],
   "metadata": {
    "collapsed": false,
    "pycharm": {
     "name": "#%%\n"
    }
   }
  },
  {
   "cell_type": "code",
   "execution_count": 54,
   "outputs": [
    {
     "data": {
      "text/plain": "            Features    Y_true Mean    Y_pred Mean  Y_true Norm Mean  \\\n0       danceability       0.657262       0.692235          0.107423   \n1             energy       0.685643       0.715765          0.106524   \n2                key       4.976190       4.862745          0.086651   \n3           loudness      -5.258702      -5.651412         -0.104446   \n4               mode       0.642857       0.647059          0.087482   \n5        speechiness       0.081498       0.056818          0.080417   \n6       acousticness       0.188248       0.139543          0.071137   \n7   instrumentalness       0.000283       0.001000          0.014701   \n8           liveness       0.151894       0.134982          0.092987   \n9            valence       0.573690       0.586000          0.102810   \n10             tempo     121.546798     117.543118          0.106853   \n11       duration_ms  214944.440476  206217.843137          0.108106   \n12    time_signature       4.011905       4.000000          0.108989   \n\n    Y_pred Norm Mean       MSE  \n0           0.138159  0.001465  \n1           0.137566  0.001647  \n2           0.110176  0.008023  \n3          -0.134914  0.002334  \n4           0.112638  0.007553  \n5           0.125637  0.005868  \n6           0.082761  0.012894  \n7           0.055972  0.018178  \n8           0.117539  0.006395  \n9           0.132261  0.002982  \n10          0.138121  0.001508  \n11          0.137818  0.001497  \n12          0.140028  0.000963  ",
      "text/html": "<div>\n<style scoped>\n    .dataframe tbody tr th:only-of-type {\n        vertical-align: middle;\n    }\n\n    .dataframe tbody tr th {\n        vertical-align: top;\n    }\n\n    .dataframe thead th {\n        text-align: right;\n    }\n</style>\n<table border=\"1\" class=\"dataframe\">\n  <thead>\n    <tr style=\"text-align: right;\">\n      <th></th>\n      <th>Features</th>\n      <th>Y_true Mean</th>\n      <th>Y_pred Mean</th>\n      <th>Y_true Norm Mean</th>\n      <th>Y_pred Norm Mean</th>\n      <th>MSE</th>\n    </tr>\n  </thead>\n  <tbody>\n    <tr>\n      <th>0</th>\n      <td>danceability</td>\n      <td>0.657262</td>\n      <td>0.692235</td>\n      <td>0.107423</td>\n      <td>0.138159</td>\n      <td>0.001465</td>\n    </tr>\n    <tr>\n      <th>1</th>\n      <td>energy</td>\n      <td>0.685643</td>\n      <td>0.715765</td>\n      <td>0.106524</td>\n      <td>0.137566</td>\n      <td>0.001647</td>\n    </tr>\n    <tr>\n      <th>2</th>\n      <td>key</td>\n      <td>4.976190</td>\n      <td>4.862745</td>\n      <td>0.086651</td>\n      <td>0.110176</td>\n      <td>0.008023</td>\n    </tr>\n    <tr>\n      <th>3</th>\n      <td>loudness</td>\n      <td>-5.258702</td>\n      <td>-5.651412</td>\n      <td>-0.104446</td>\n      <td>-0.134914</td>\n      <td>0.002334</td>\n    </tr>\n    <tr>\n      <th>4</th>\n      <td>mode</td>\n      <td>0.642857</td>\n      <td>0.647059</td>\n      <td>0.087482</td>\n      <td>0.112638</td>\n      <td>0.007553</td>\n    </tr>\n    <tr>\n      <th>5</th>\n      <td>speechiness</td>\n      <td>0.081498</td>\n      <td>0.056818</td>\n      <td>0.080417</td>\n      <td>0.125637</td>\n      <td>0.005868</td>\n    </tr>\n    <tr>\n      <th>6</th>\n      <td>acousticness</td>\n      <td>0.188248</td>\n      <td>0.139543</td>\n      <td>0.071137</td>\n      <td>0.082761</td>\n      <td>0.012894</td>\n    </tr>\n    <tr>\n      <th>7</th>\n      <td>instrumentalness</td>\n      <td>0.000283</td>\n      <td>0.001000</td>\n      <td>0.014701</td>\n      <td>0.055972</td>\n      <td>0.018178</td>\n    </tr>\n    <tr>\n      <th>8</th>\n      <td>liveness</td>\n      <td>0.151894</td>\n      <td>0.134982</td>\n      <td>0.092987</td>\n      <td>0.117539</td>\n      <td>0.006395</td>\n    </tr>\n    <tr>\n      <th>9</th>\n      <td>valence</td>\n      <td>0.573690</td>\n      <td>0.586000</td>\n      <td>0.102810</td>\n      <td>0.132261</td>\n      <td>0.002982</td>\n    </tr>\n    <tr>\n      <th>10</th>\n      <td>tempo</td>\n      <td>121.546798</td>\n      <td>117.543118</td>\n      <td>0.106853</td>\n      <td>0.138121</td>\n      <td>0.001508</td>\n    </tr>\n    <tr>\n      <th>11</th>\n      <td>duration_ms</td>\n      <td>214944.440476</td>\n      <td>206217.843137</td>\n      <td>0.108106</td>\n      <td>0.137818</td>\n      <td>0.001497</td>\n    </tr>\n    <tr>\n      <th>12</th>\n      <td>time_signature</td>\n      <td>4.011905</td>\n      <td>4.000000</td>\n      <td>0.108989</td>\n      <td>0.140028</td>\n      <td>0.000963</td>\n    </tr>\n  </tbody>\n</table>\n</div>"
     },
     "execution_count": 54,
     "metadata": {},
     "output_type": "execute_result"
    }
   ],
   "source": [
    "dfW_new = table_MSE(inputW_, outputW_new)\n",
    "dfW_new"
   ],
   "metadata": {
    "collapsed": false,
    "pycharm": {
     "name": "#%%\n"
    }
   }
  },
  {
   "cell_type": "code",
   "execution_count": 55,
   "outputs": [],
   "source": [
    "## MSE for Bonnie\n",
    "# generate feature dataframes\n",
    "inputB_ = create_feature_dataset(['3XL46hsF6P384x1Sr79CfF'], sp)\n",
    "outputB_old = create_feature_dataset(['454MhNXJqfxlzgNnLBdHD3'], sp)\n",
    "outputB_new = create_feature_dataset(['0oDuGvkkReu5J5Imth7g41'], sp)"
   ],
   "metadata": {
    "collapsed": false,
    "pycharm": {
     "name": "#%%\n"
    }
   }
  },
  {
   "cell_type": "code",
   "execution_count": 58,
   "outputs": [
    {
     "data": {
      "text/plain": "            Features    Y_true Mean    Y_pred Mean  Y_true Norm Mean  \\\n0       danceability       0.593207       0.618184          0.180447   \n1             energy       0.537897       0.563041          0.177399   \n2                key       4.931034       4.857143          0.149152   \n3           loudness      -7.293345      -7.953388         -0.175149   \n4               mode       0.620690       0.612245          0.146298   \n5        speechiness       0.099145       0.084927          0.141079   \n6       acousticness       0.314702       0.303267          0.140054   \n7   instrumentalness       0.007129       0.002860          0.034607   \n8           liveness       0.201079       0.176806          0.153459   \n9            valence       0.362634       0.365020          0.167979   \n10             tempo     130.124276     123.718571          0.180431   \n11       duration_ms  210276.034483  194157.183673          0.182658   \n12    time_signature       3.862069       3.938776          0.184537   \n\n    Y_pred Norm Mean       MSE  \n0           0.140389  0.002304  \n1           0.135753  0.003714  \n2           0.113791  0.008710  \n3          -0.134141  0.004096  \n4           0.111780  0.009105  \n5           0.101250  0.011743  \n6           0.102526  0.011305  \n7           0.047292  0.018333  \n8           0.126920  0.005004  \n9           0.128058  0.005603  \n10          0.139417  0.002653  \n11          0.140962  0.002276  \n12          0.142593  0.001835  ",
      "text/html": "<div>\n<style scoped>\n    .dataframe tbody tr th:only-of-type {\n        vertical-align: middle;\n    }\n\n    .dataframe tbody tr th {\n        vertical-align: top;\n    }\n\n    .dataframe thead th {\n        text-align: right;\n    }\n</style>\n<table border=\"1\" class=\"dataframe\">\n  <thead>\n    <tr style=\"text-align: right;\">\n      <th></th>\n      <th>Features</th>\n      <th>Y_true Mean</th>\n      <th>Y_pred Mean</th>\n      <th>Y_true Norm Mean</th>\n      <th>Y_pred Norm Mean</th>\n      <th>MSE</th>\n    </tr>\n  </thead>\n  <tbody>\n    <tr>\n      <th>0</th>\n      <td>danceability</td>\n      <td>0.593207</td>\n      <td>0.618184</td>\n      <td>0.180447</td>\n      <td>0.140389</td>\n      <td>0.002304</td>\n    </tr>\n    <tr>\n      <th>1</th>\n      <td>energy</td>\n      <td>0.537897</td>\n      <td>0.563041</td>\n      <td>0.177399</td>\n      <td>0.135753</td>\n      <td>0.003714</td>\n    </tr>\n    <tr>\n      <th>2</th>\n      <td>key</td>\n      <td>4.931034</td>\n      <td>4.857143</td>\n      <td>0.149152</td>\n      <td>0.113791</td>\n      <td>0.008710</td>\n    </tr>\n    <tr>\n      <th>3</th>\n      <td>loudness</td>\n      <td>-7.293345</td>\n      <td>-7.953388</td>\n      <td>-0.175149</td>\n      <td>-0.134141</td>\n      <td>0.004096</td>\n    </tr>\n    <tr>\n      <th>4</th>\n      <td>mode</td>\n      <td>0.620690</td>\n      <td>0.612245</td>\n      <td>0.146298</td>\n      <td>0.111780</td>\n      <td>0.009105</td>\n    </tr>\n    <tr>\n      <th>5</th>\n      <td>speechiness</td>\n      <td>0.099145</td>\n      <td>0.084927</td>\n      <td>0.141079</td>\n      <td>0.101250</td>\n      <td>0.011743</td>\n    </tr>\n    <tr>\n      <th>6</th>\n      <td>acousticness</td>\n      <td>0.314702</td>\n      <td>0.303267</td>\n      <td>0.140054</td>\n      <td>0.102526</td>\n      <td>0.011305</td>\n    </tr>\n    <tr>\n      <th>7</th>\n      <td>instrumentalness</td>\n      <td>0.007129</td>\n      <td>0.002860</td>\n      <td>0.034607</td>\n      <td>0.047292</td>\n      <td>0.018333</td>\n    </tr>\n    <tr>\n      <th>8</th>\n      <td>liveness</td>\n      <td>0.201079</td>\n      <td>0.176806</td>\n      <td>0.153459</td>\n      <td>0.126920</td>\n      <td>0.005004</td>\n    </tr>\n    <tr>\n      <th>9</th>\n      <td>valence</td>\n      <td>0.362634</td>\n      <td>0.365020</td>\n      <td>0.167979</td>\n      <td>0.128058</td>\n      <td>0.005603</td>\n    </tr>\n    <tr>\n      <th>10</th>\n      <td>tempo</td>\n      <td>130.124276</td>\n      <td>123.718571</td>\n      <td>0.180431</td>\n      <td>0.139417</td>\n      <td>0.002653</td>\n    </tr>\n    <tr>\n      <th>11</th>\n      <td>duration_ms</td>\n      <td>210276.034483</td>\n      <td>194157.183673</td>\n      <td>0.182658</td>\n      <td>0.140962</td>\n      <td>0.002276</td>\n    </tr>\n    <tr>\n      <th>12</th>\n      <td>time_signature</td>\n      <td>3.862069</td>\n      <td>3.938776</td>\n      <td>0.184537</td>\n      <td>0.142593</td>\n      <td>0.001835</td>\n    </tr>\n  </tbody>\n</table>\n</div>"
     },
     "execution_count": 58,
     "metadata": {},
     "output_type": "execute_result"
    }
   ],
   "source": [
    "dfB_old = table_MSE(inputB_, outputB_old)\n",
    "dfB_old"
   ],
   "metadata": {
    "collapsed": false,
    "pycharm": {
     "name": "#%%\n"
    }
   }
  },
  {
   "cell_type": "code",
   "execution_count": 59,
   "outputs": [
    {
     "data": {
      "text/plain": "            Features    Y_true Mean    Y_pred Mean  Y_true Norm Mean  \\\n0       danceability       0.593207       0.618184          0.180447   \n1             energy       0.537897       0.563041          0.177399   \n2                key       4.931034       4.857143          0.149152   \n3           loudness      -7.293345      -7.953388         -0.175149   \n4               mode       0.620690       0.612245          0.146298   \n5        speechiness       0.099145       0.084927          0.141079   \n6       acousticness       0.314702       0.303267          0.140054   \n7   instrumentalness       0.007129       0.002860          0.034607   \n8           liveness       0.201079       0.176806          0.153459   \n9            valence       0.362634       0.365020          0.167979   \n10             tempo     130.124276     123.718571          0.180431   \n11       duration_ms  210276.034483  194157.183673          0.182658   \n12    time_signature       3.862069       3.938776          0.184537   \n\n    Y_pred Norm Mean       MSE  \n0           0.140389  0.002304  \n1           0.135753  0.003714  \n2           0.113791  0.008710  \n3          -0.134141  0.004096  \n4           0.111780  0.009105  \n5           0.101250  0.011743  \n6           0.102526  0.011305  \n7           0.047292  0.018333  \n8           0.126920  0.005004  \n9           0.128058  0.005603  \n10          0.139417  0.002653  \n11          0.140962  0.002276  \n12          0.142593  0.001835  ",
      "text/html": "<div>\n<style scoped>\n    .dataframe tbody tr th:only-of-type {\n        vertical-align: middle;\n    }\n\n    .dataframe tbody tr th {\n        vertical-align: top;\n    }\n\n    .dataframe thead th {\n        text-align: right;\n    }\n</style>\n<table border=\"1\" class=\"dataframe\">\n  <thead>\n    <tr style=\"text-align: right;\">\n      <th></th>\n      <th>Features</th>\n      <th>Y_true Mean</th>\n      <th>Y_pred Mean</th>\n      <th>Y_true Norm Mean</th>\n      <th>Y_pred Norm Mean</th>\n      <th>MSE</th>\n    </tr>\n  </thead>\n  <tbody>\n    <tr>\n      <th>0</th>\n      <td>danceability</td>\n      <td>0.593207</td>\n      <td>0.618184</td>\n      <td>0.180447</td>\n      <td>0.140389</td>\n      <td>0.002304</td>\n    </tr>\n    <tr>\n      <th>1</th>\n      <td>energy</td>\n      <td>0.537897</td>\n      <td>0.563041</td>\n      <td>0.177399</td>\n      <td>0.135753</td>\n      <td>0.003714</td>\n    </tr>\n    <tr>\n      <th>2</th>\n      <td>key</td>\n      <td>4.931034</td>\n      <td>4.857143</td>\n      <td>0.149152</td>\n      <td>0.113791</td>\n      <td>0.008710</td>\n    </tr>\n    <tr>\n      <th>3</th>\n      <td>loudness</td>\n      <td>-7.293345</td>\n      <td>-7.953388</td>\n      <td>-0.175149</td>\n      <td>-0.134141</td>\n      <td>0.004096</td>\n    </tr>\n    <tr>\n      <th>4</th>\n      <td>mode</td>\n      <td>0.620690</td>\n      <td>0.612245</td>\n      <td>0.146298</td>\n      <td>0.111780</td>\n      <td>0.009105</td>\n    </tr>\n    <tr>\n      <th>5</th>\n      <td>speechiness</td>\n      <td>0.099145</td>\n      <td>0.084927</td>\n      <td>0.141079</td>\n      <td>0.101250</td>\n      <td>0.011743</td>\n    </tr>\n    <tr>\n      <th>6</th>\n      <td>acousticness</td>\n      <td>0.314702</td>\n      <td>0.303267</td>\n      <td>0.140054</td>\n      <td>0.102526</td>\n      <td>0.011305</td>\n    </tr>\n    <tr>\n      <th>7</th>\n      <td>instrumentalness</td>\n      <td>0.007129</td>\n      <td>0.002860</td>\n      <td>0.034607</td>\n      <td>0.047292</td>\n      <td>0.018333</td>\n    </tr>\n    <tr>\n      <th>8</th>\n      <td>liveness</td>\n      <td>0.201079</td>\n      <td>0.176806</td>\n      <td>0.153459</td>\n      <td>0.126920</td>\n      <td>0.005004</td>\n    </tr>\n    <tr>\n      <th>9</th>\n      <td>valence</td>\n      <td>0.362634</td>\n      <td>0.365020</td>\n      <td>0.167979</td>\n      <td>0.128058</td>\n      <td>0.005603</td>\n    </tr>\n    <tr>\n      <th>10</th>\n      <td>tempo</td>\n      <td>130.124276</td>\n      <td>123.718571</td>\n      <td>0.180431</td>\n      <td>0.139417</td>\n      <td>0.002653</td>\n    </tr>\n    <tr>\n      <th>11</th>\n      <td>duration_ms</td>\n      <td>210276.034483</td>\n      <td>194157.183673</td>\n      <td>0.182658</td>\n      <td>0.140962</td>\n      <td>0.002276</td>\n    </tr>\n    <tr>\n      <th>12</th>\n      <td>time_signature</td>\n      <td>3.862069</td>\n      <td>3.938776</td>\n      <td>0.184537</td>\n      <td>0.142593</td>\n      <td>0.001835</td>\n    </tr>\n  </tbody>\n</table>\n</div>"
     },
     "execution_count": 59,
     "metadata": {},
     "output_type": "execute_result"
    }
   ],
   "source": [
    "dfB_new = table_MSE(inputB_, outputB_new)\n",
    "dfB_new"
   ],
   "metadata": {
    "collapsed": false,
    "pycharm": {
     "name": "#%%\n"
    }
   }
  },
  {
   "cell_type": "code",
   "execution_count": 60,
   "outputs": [],
   "source": [
    "## MSE for Clara\n",
    "# generate feature dataframes\n",
    "inputB_ = create_feature_dataset(['16Uj14Ek0EREN2NmKe8FOB'], sp)\n",
    "outputB_old = create_feature_dataset(['3DYfJOlskaUfbsHdl65Y9c'], sp)\n",
    "outputB_new = create_feature_dataset(['5kgkve4K0y0QxcdeWv077z'], sp)"
   ],
   "metadata": {
    "collapsed": false,
    "pycharm": {
     "name": "#%%\n"
    }
   }
  },
  {
   "cell_type": "code",
   "execution_count": 61,
   "outputs": [
    {
     "data": {
      "text/plain": "            Features    Y_true Mean    Y_pred Mean  Y_true Norm Mean  \\\n0       danceability       0.593207       0.618184          0.180447   \n1             energy       0.537897       0.563041          0.177399   \n2                key       4.931034       4.857143          0.149152   \n3           loudness      -7.293345      -7.953388         -0.175149   \n4               mode       0.620690       0.612245          0.146298   \n5        speechiness       0.099145       0.084927          0.141079   \n6       acousticness       0.314702       0.303267          0.140054   \n7   instrumentalness       0.007129       0.002860          0.034607   \n8           liveness       0.201079       0.176806          0.153459   \n9            valence       0.362634       0.365020          0.167979   \n10             tempo     130.124276     123.718571          0.180431   \n11       duration_ms  210276.034483  194157.183673          0.182658   \n12    time_signature       3.862069       3.938776          0.184537   \n\n    Y_pred Norm Mean       MSE  \n0           0.140389  0.002304  \n1           0.135753  0.003714  \n2           0.113791  0.008710  \n3          -0.134141  0.004096  \n4           0.111780  0.009105  \n5           0.101250  0.011743  \n6           0.102526  0.011305  \n7           0.047292  0.018333  \n8           0.126920  0.005004  \n9           0.128058  0.005603  \n10          0.139417  0.002653  \n11          0.140962  0.002276  \n12          0.142593  0.001835  ",
      "text/html": "<div>\n<style scoped>\n    .dataframe tbody tr th:only-of-type {\n        vertical-align: middle;\n    }\n\n    .dataframe tbody tr th {\n        vertical-align: top;\n    }\n\n    .dataframe thead th {\n        text-align: right;\n    }\n</style>\n<table border=\"1\" class=\"dataframe\">\n  <thead>\n    <tr style=\"text-align: right;\">\n      <th></th>\n      <th>Features</th>\n      <th>Y_true Mean</th>\n      <th>Y_pred Mean</th>\n      <th>Y_true Norm Mean</th>\n      <th>Y_pred Norm Mean</th>\n      <th>MSE</th>\n    </tr>\n  </thead>\n  <tbody>\n    <tr>\n      <th>0</th>\n      <td>danceability</td>\n      <td>0.593207</td>\n      <td>0.618184</td>\n      <td>0.180447</td>\n      <td>0.140389</td>\n      <td>0.002304</td>\n    </tr>\n    <tr>\n      <th>1</th>\n      <td>energy</td>\n      <td>0.537897</td>\n      <td>0.563041</td>\n      <td>0.177399</td>\n      <td>0.135753</td>\n      <td>0.003714</td>\n    </tr>\n    <tr>\n      <th>2</th>\n      <td>key</td>\n      <td>4.931034</td>\n      <td>4.857143</td>\n      <td>0.149152</td>\n      <td>0.113791</td>\n      <td>0.008710</td>\n    </tr>\n    <tr>\n      <th>3</th>\n      <td>loudness</td>\n      <td>-7.293345</td>\n      <td>-7.953388</td>\n      <td>-0.175149</td>\n      <td>-0.134141</td>\n      <td>0.004096</td>\n    </tr>\n    <tr>\n      <th>4</th>\n      <td>mode</td>\n      <td>0.620690</td>\n      <td>0.612245</td>\n      <td>0.146298</td>\n      <td>0.111780</td>\n      <td>0.009105</td>\n    </tr>\n    <tr>\n      <th>5</th>\n      <td>speechiness</td>\n      <td>0.099145</td>\n      <td>0.084927</td>\n      <td>0.141079</td>\n      <td>0.101250</td>\n      <td>0.011743</td>\n    </tr>\n    <tr>\n      <th>6</th>\n      <td>acousticness</td>\n      <td>0.314702</td>\n      <td>0.303267</td>\n      <td>0.140054</td>\n      <td>0.102526</td>\n      <td>0.011305</td>\n    </tr>\n    <tr>\n      <th>7</th>\n      <td>instrumentalness</td>\n      <td>0.007129</td>\n      <td>0.002860</td>\n      <td>0.034607</td>\n      <td>0.047292</td>\n      <td>0.018333</td>\n    </tr>\n    <tr>\n      <th>8</th>\n      <td>liveness</td>\n      <td>0.201079</td>\n      <td>0.176806</td>\n      <td>0.153459</td>\n      <td>0.126920</td>\n      <td>0.005004</td>\n    </tr>\n    <tr>\n      <th>9</th>\n      <td>valence</td>\n      <td>0.362634</td>\n      <td>0.365020</td>\n      <td>0.167979</td>\n      <td>0.128058</td>\n      <td>0.005603</td>\n    </tr>\n    <tr>\n      <th>10</th>\n      <td>tempo</td>\n      <td>130.124276</td>\n      <td>123.718571</td>\n      <td>0.180431</td>\n      <td>0.139417</td>\n      <td>0.002653</td>\n    </tr>\n    <tr>\n      <th>11</th>\n      <td>duration_ms</td>\n      <td>210276.034483</td>\n      <td>194157.183673</td>\n      <td>0.182658</td>\n      <td>0.140962</td>\n      <td>0.002276</td>\n    </tr>\n    <tr>\n      <th>12</th>\n      <td>time_signature</td>\n      <td>3.862069</td>\n      <td>3.938776</td>\n      <td>0.184537</td>\n      <td>0.142593</td>\n      <td>0.001835</td>\n    </tr>\n  </tbody>\n</table>\n</div>"
     },
     "execution_count": 61,
     "metadata": {},
     "output_type": "execute_result"
    }
   ],
   "source": [
    "dfB_old = table_MSE(inputB_, outputB_old)\n",
    "dfB_old"
   ],
   "metadata": {
    "collapsed": false,
    "pycharm": {
     "name": "#%%\n"
    }
   }
  },
  {
   "cell_type": "code",
   "execution_count": 62,
   "outputs": [
    {
     "data": {
      "text/plain": "            Features    Y_true Mean    Y_pred Mean  Y_true Norm Mean  \\\n0       danceability       0.593207       0.618184          0.180447   \n1             energy       0.537897       0.563041          0.177399   \n2                key       4.931034       4.857143          0.149152   \n3           loudness      -7.293345      -7.953388         -0.175149   \n4               mode       0.620690       0.612245          0.146298   \n5        speechiness       0.099145       0.084927          0.141079   \n6       acousticness       0.314702       0.303267          0.140054   \n7   instrumentalness       0.007129       0.002860          0.034607   \n8           liveness       0.201079       0.176806          0.153459   \n9            valence       0.362634       0.365020          0.167979   \n10             tempo     130.124276     123.718571          0.180431   \n11       duration_ms  210276.034483  194157.183673          0.182658   \n12    time_signature       3.862069       3.938776          0.184537   \n\n    Y_pred Norm Mean       MSE  \n0           0.140389  0.002304  \n1           0.135753  0.003714  \n2           0.113791  0.008710  \n3          -0.134141  0.004096  \n4           0.111780  0.009105  \n5           0.101250  0.011743  \n6           0.102526  0.011305  \n7           0.047292  0.018333  \n8           0.126920  0.005004  \n9           0.128058  0.005603  \n10          0.139417  0.002653  \n11          0.140962  0.002276  \n12          0.142593  0.001835  ",
      "text/html": "<div>\n<style scoped>\n    .dataframe tbody tr th:only-of-type {\n        vertical-align: middle;\n    }\n\n    .dataframe tbody tr th {\n        vertical-align: top;\n    }\n\n    .dataframe thead th {\n        text-align: right;\n    }\n</style>\n<table border=\"1\" class=\"dataframe\">\n  <thead>\n    <tr style=\"text-align: right;\">\n      <th></th>\n      <th>Features</th>\n      <th>Y_true Mean</th>\n      <th>Y_pred Mean</th>\n      <th>Y_true Norm Mean</th>\n      <th>Y_pred Norm Mean</th>\n      <th>MSE</th>\n    </tr>\n  </thead>\n  <tbody>\n    <tr>\n      <th>0</th>\n      <td>danceability</td>\n      <td>0.593207</td>\n      <td>0.618184</td>\n      <td>0.180447</td>\n      <td>0.140389</td>\n      <td>0.002304</td>\n    </tr>\n    <tr>\n      <th>1</th>\n      <td>energy</td>\n      <td>0.537897</td>\n      <td>0.563041</td>\n      <td>0.177399</td>\n      <td>0.135753</td>\n      <td>0.003714</td>\n    </tr>\n    <tr>\n      <th>2</th>\n      <td>key</td>\n      <td>4.931034</td>\n      <td>4.857143</td>\n      <td>0.149152</td>\n      <td>0.113791</td>\n      <td>0.008710</td>\n    </tr>\n    <tr>\n      <th>3</th>\n      <td>loudness</td>\n      <td>-7.293345</td>\n      <td>-7.953388</td>\n      <td>-0.175149</td>\n      <td>-0.134141</td>\n      <td>0.004096</td>\n    </tr>\n    <tr>\n      <th>4</th>\n      <td>mode</td>\n      <td>0.620690</td>\n      <td>0.612245</td>\n      <td>0.146298</td>\n      <td>0.111780</td>\n      <td>0.009105</td>\n    </tr>\n    <tr>\n      <th>5</th>\n      <td>speechiness</td>\n      <td>0.099145</td>\n      <td>0.084927</td>\n      <td>0.141079</td>\n      <td>0.101250</td>\n      <td>0.011743</td>\n    </tr>\n    <tr>\n      <th>6</th>\n      <td>acousticness</td>\n      <td>0.314702</td>\n      <td>0.303267</td>\n      <td>0.140054</td>\n      <td>0.102526</td>\n      <td>0.011305</td>\n    </tr>\n    <tr>\n      <th>7</th>\n      <td>instrumentalness</td>\n      <td>0.007129</td>\n      <td>0.002860</td>\n      <td>0.034607</td>\n      <td>0.047292</td>\n      <td>0.018333</td>\n    </tr>\n    <tr>\n      <th>8</th>\n      <td>liveness</td>\n      <td>0.201079</td>\n      <td>0.176806</td>\n      <td>0.153459</td>\n      <td>0.126920</td>\n      <td>0.005004</td>\n    </tr>\n    <tr>\n      <th>9</th>\n      <td>valence</td>\n      <td>0.362634</td>\n      <td>0.365020</td>\n      <td>0.167979</td>\n      <td>0.128058</td>\n      <td>0.005603</td>\n    </tr>\n    <tr>\n      <th>10</th>\n      <td>tempo</td>\n      <td>130.124276</td>\n      <td>123.718571</td>\n      <td>0.180431</td>\n      <td>0.139417</td>\n      <td>0.002653</td>\n    </tr>\n    <tr>\n      <th>11</th>\n      <td>duration_ms</td>\n      <td>210276.034483</td>\n      <td>194157.183673</td>\n      <td>0.182658</td>\n      <td>0.140962</td>\n      <td>0.002276</td>\n    </tr>\n    <tr>\n      <th>12</th>\n      <td>time_signature</td>\n      <td>3.862069</td>\n      <td>3.938776</td>\n      <td>0.184537</td>\n      <td>0.142593</td>\n      <td>0.001835</td>\n    </tr>\n  </tbody>\n</table>\n</div>"
     },
     "execution_count": 62,
     "metadata": {},
     "output_type": "execute_result"
    }
   ],
   "source": [
    "dfB_new = table_MSE(inputB_, outputB_new)\n",
    "dfB_new"
   ],
   "metadata": {
    "collapsed": false,
    "pycharm": {
     "name": "#%%\n"
    }
   }
  }
 ],
 "metadata": {
  "kernelspec": {
   "display_name": "Python 3",
   "language": "python",
   "name": "python3"
  },
  "language_info": {
   "codemirror_mode": {
    "name": "ipython",
    "version": 2
   },
   "file_extension": ".py",
   "mimetype": "text/x-python",
   "name": "python",
   "nbconvert_exporter": "python",
   "pygments_lexer": "ipython2",
   "version": "2.7.6"
  }
 },
 "nbformat": 4,
 "nbformat_minor": 0
}